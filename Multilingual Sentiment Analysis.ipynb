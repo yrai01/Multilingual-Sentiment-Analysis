{
 "cells": [
  {
   "cell_type": "markdown",
   "id": "13fc462e",
   "metadata": {},
   "source": [
    "# Multilingual Sentiment Analysis"
   ]
  },
  {
   "cell_type": "markdown",
   "id": "a925cec6",
   "metadata": {
    "heading_collapsed": true
   },
   "source": [
    "### Import Libraries"
   ]
  },
  {
   "cell_type": "code",
   "execution_count": 1,
   "id": "4297db6c",
   "metadata": {
    "hidden": true
   },
   "outputs": [
    {
     "name": "stderr",
     "output_type": "stream",
     "text": [
      "2023-07-10 10:44:19.226076: I tensorflow/core/platform/cpu_feature_guard.cc:182] This TensorFlow binary is optimized to use available CPU instructions in performance-critical operations.\n",
      "To enable the following instructions: AVX2 AVX512F AVX512_VNNI FMA, in other operations, rebuild TensorFlow with the appropriate compiler flags.\n"
     ]
    }
   ],
   "source": [
    "import numpy as np\n",
    "import pandas as pd\n",
    "import seaborn as sns\n",
    "import matplotlib.pyplot as plt\n",
    "import nltk\n",
    "import string\n",
    "import re\n",
    "import tensorflow_hub as hub\n",
    "import tensorflow_text as text\n",
    "from keras.models import Sequential\n",
    "from keras.layers import Embedding, Conv1D, GlobalMaxPooling1D, Dense\n",
    "from sklearn.naive_bayes import MultinomialNB\n",
    "from sklearn.svm import SVC\n",
    "from sklearn.linear_model import LogisticRegression\n",
    "from sklearn.feature_extraction.text import CountVectorizer\n",
    "from sklearn.model_selection import train_test_split\n",
    "from sklearn.metrics import accuracy_score\n",
    "from sklearn.model_selection import train_test_split\n",
    "from nltk.corpus import stopwords\n",
    "from tensorflow.keras.preprocessing.text import Tokenizer\n",
    "from tensorflow.keras.preprocessing.sequence import pad_sequences\n",
    "from nltk.tokenize import sent_tokenize"
   ]
  },
  {
   "cell_type": "markdown",
   "id": "b2986357",
   "metadata": {
    "hidden": true
   },
   "source": [
    "1) Sets up a deep learning model using Keras, consisting of an embedding layer, convolutional layer, global max pooling layer, and a dense layer, for text classification. This model architecture is commonly used for text classification tasks.\n",
    "\n",
    "2) Also imports other classification algorithms such as MultinomialNB, SVC, and LogisticRegression from scikit-learn, which can be used as alternative models for text classification.\n",
    "\n",
    "3) Utilizes various text preprocessing techniques, such as removing punctuation, tokenization, removing stopwords, and converting text data into numerical representations using CountVectorizer and Tokenizer.\n",
    "\n",
    "4) Additionally, the code splits the dataset into training and testing sets using train_test_split and evaluates the accuracy of the classification models using accuracy_score."
   ]
  },
  {
   "cell_type": "markdown",
   "id": "1a877497",
   "metadata": {
    "heading_collapsed": true
   },
   "source": [
    "### Load the dataset"
   ]
  },
  {
   "cell_type": "code",
   "execution_count": 2,
   "id": "fee37910",
   "metadata": {
    "hidden": true
   },
   "outputs": [],
   "source": [
    "df = pd.read_csv('jigsaw-toxic-comment-train-processed-seqlen128.csv')"
   ]
  },
  {
   "cell_type": "code",
   "execution_count": 3,
   "id": "53a78902",
   "metadata": {
    "hidden": true,
    "scrolled": true
   },
   "outputs": [
    {
     "data": {
      "text/html": [
       "<div>\n",
       "<style scoped>\n",
       "    .dataframe tbody tr th:only-of-type {\n",
       "        vertical-align: middle;\n",
       "    }\n",
       "\n",
       "    .dataframe tbody tr th {\n",
       "        vertical-align: top;\n",
       "    }\n",
       "\n",
       "    .dataframe thead th {\n",
       "        text-align: right;\n",
       "    }\n",
       "</style>\n",
       "<table border=\"1\" class=\"dataframe\">\n",
       "  <thead>\n",
       "    <tr style=\"text-align: right;\">\n",
       "      <th></th>\n",
       "      <th>id</th>\n",
       "      <th>comment_text</th>\n",
       "      <th>toxic</th>\n",
       "      <th>severe_toxic</th>\n",
       "      <th>obscene</th>\n",
       "      <th>threat</th>\n",
       "      <th>insult</th>\n",
       "      <th>identity_hate</th>\n",
       "      <th>input_word_ids</th>\n",
       "      <th>input_mask</th>\n",
       "      <th>all_segment_id</th>\n",
       "    </tr>\n",
       "  </thead>\n",
       "  <tbody>\n",
       "    <tr>\n",
       "      <th>0</th>\n",
       "      <td>0000997932d777bf</td>\n",
       "      <td>Explanation\\nWhy the edits made under my usern...</td>\n",
       "      <td>0</td>\n",
       "      <td>0</td>\n",
       "      <td>0</td>\n",
       "      <td>0</td>\n",
       "      <td>0</td>\n",
       "      <td>0</td>\n",
       "      <td>(101, 27746, 31609, 11809, 24781, 10105, 70971...</td>\n",
       "      <td>(1, 1, 1, 1, 1, 1, 1, 1, 1, 1, 1, 1, 1, 1, 1, ...</td>\n",
       "      <td>(0, 0, 0, 0, 0, 0, 0, 0, 0, 0, 0, 0, 0, 0, 0, ...</td>\n",
       "    </tr>\n",
       "    <tr>\n",
       "      <th>1</th>\n",
       "      <td>000103f0d9cfb60f</td>\n",
       "      <td>D'aww! He matches this background colour I'm s...</td>\n",
       "      <td>0</td>\n",
       "      <td>0</td>\n",
       "      <td>0</td>\n",
       "      <td>0</td>\n",
       "      <td>0</td>\n",
       "      <td>0</td>\n",
       "      <td>(101, 141, 112, 56237, 10874, 106, 10357, 1825...</td>\n",
       "      <td>(1, 1, 1, 1, 1, 1, 1, 1, 1, 1, 1, 1, 1, 1, 1, ...</td>\n",
       "      <td>(0, 0, 0, 0, 0, 0, 0, 0, 0, 0, 0, 0, 0, 0, 0, ...</td>\n",
       "    </tr>\n",
       "    <tr>\n",
       "      <th>2</th>\n",
       "      <td>000113f07ec002fd</td>\n",
       "      <td>Hey man, I'm really not trying to edit war. It...</td>\n",
       "      <td>0</td>\n",
       "      <td>0</td>\n",
       "      <td>0</td>\n",
       "      <td>0</td>\n",
       "      <td>0</td>\n",
       "      <td>0</td>\n",
       "      <td>(101, 35936, 10817, 117, 146, 112, 181, 30181,...</td>\n",
       "      <td>(1, 1, 1, 1, 1, 1, 1, 1, 1, 1, 1, 1, 1, 1, 1, ...</td>\n",
       "      <td>(0, 0, 0, 0, 0, 0, 0, 0, 0, 0, 0, 0, 0, 0, 0, ...</td>\n",
       "    </tr>\n",
       "    <tr>\n",
       "      <th>3</th>\n",
       "      <td>0001b41b1c6bb37e</td>\n",
       "      <td>\"\\nMore\\nI can't make any real suggestions on ...</td>\n",
       "      <td>0</td>\n",
       "      <td>0</td>\n",
       "      <td>0</td>\n",
       "      <td>0</td>\n",
       "      <td>0</td>\n",
       "      <td>0</td>\n",
       "      <td>(101, 107, 15946, 146, 10944, 112, 188, 13086,...</td>\n",
       "      <td>(1, 1, 1, 1, 1, 1, 1, 1, 1, 1, 1, 1, 1, 1, 1, ...</td>\n",
       "      <td>(0, 0, 0, 0, 0, 0, 0, 0, 0, 0, 0, 0, 0, 0, 0, ...</td>\n",
       "    </tr>\n",
       "    <tr>\n",
       "      <th>4</th>\n",
       "      <td>0001d958c54c6e35</td>\n",
       "      <td>You, sir, are my hero. Any chance you remember...</td>\n",
       "      <td>0</td>\n",
       "      <td>0</td>\n",
       "      <td>0</td>\n",
       "      <td>0</td>\n",
       "      <td>0</td>\n",
       "      <td>0</td>\n",
       "      <td>(101, 11065, 117, 52523, 117, 10301, 15127, 51...</td>\n",
       "      <td>(1, 1, 1, 1, 1, 1, 1, 1, 1, 1, 1, 1, 1, 1, 1, ...</td>\n",
       "      <td>(0, 0, 0, 0, 0, 0, 0, 0, 0, 0, 0, 0, 0, 0, 0, ...</td>\n",
       "    </tr>\n",
       "  </tbody>\n",
       "</table>\n",
       "</div>"
      ],
      "text/plain": [
       "                 id                                       comment_text  toxic  \\\n",
       "0  0000997932d777bf  Explanation\\nWhy the edits made under my usern...      0   \n",
       "1  000103f0d9cfb60f  D'aww! He matches this background colour I'm s...      0   \n",
       "2  000113f07ec002fd  Hey man, I'm really not trying to edit war. It...      0   \n",
       "3  0001b41b1c6bb37e  \"\\nMore\\nI can't make any real suggestions on ...      0   \n",
       "4  0001d958c54c6e35  You, sir, are my hero. Any chance you remember...      0   \n",
       "\n",
       "   severe_toxic  obscene  threat  insult  identity_hate  \\\n",
       "0             0        0       0       0              0   \n",
       "1             0        0       0       0              0   \n",
       "2             0        0       0       0              0   \n",
       "3             0        0       0       0              0   \n",
       "4             0        0       0       0              0   \n",
       "\n",
       "                                      input_word_ids  \\\n",
       "0  (101, 27746, 31609, 11809, 24781, 10105, 70971...   \n",
       "1  (101, 141, 112, 56237, 10874, 106, 10357, 1825...   \n",
       "2  (101, 35936, 10817, 117, 146, 112, 181, 30181,...   \n",
       "3  (101, 107, 15946, 146, 10944, 112, 188, 13086,...   \n",
       "4  (101, 11065, 117, 52523, 117, 10301, 15127, 51...   \n",
       "\n",
       "                                          input_mask  \\\n",
       "0  (1, 1, 1, 1, 1, 1, 1, 1, 1, 1, 1, 1, 1, 1, 1, ...   \n",
       "1  (1, 1, 1, 1, 1, 1, 1, 1, 1, 1, 1, 1, 1, 1, 1, ...   \n",
       "2  (1, 1, 1, 1, 1, 1, 1, 1, 1, 1, 1, 1, 1, 1, 1, ...   \n",
       "3  (1, 1, 1, 1, 1, 1, 1, 1, 1, 1, 1, 1, 1, 1, 1, ...   \n",
       "4  (1, 1, 1, 1, 1, 1, 1, 1, 1, 1, 1, 1, 1, 1, 1, ...   \n",
       "\n",
       "                                      all_segment_id  \n",
       "0  (0, 0, 0, 0, 0, 0, 0, 0, 0, 0, 0, 0, 0, 0, 0, ...  \n",
       "1  (0, 0, 0, 0, 0, 0, 0, 0, 0, 0, 0, 0, 0, 0, 0, ...  \n",
       "2  (0, 0, 0, 0, 0, 0, 0, 0, 0, 0, 0, 0, 0, 0, 0, ...  \n",
       "3  (0, 0, 0, 0, 0, 0, 0, 0, 0, 0, 0, 0, 0, 0, 0, ...  \n",
       "4  (0, 0, 0, 0, 0, 0, 0, 0, 0, 0, 0, 0, 0, 0, 0, ...  "
      ]
     },
     "execution_count": 3,
     "metadata": {},
     "output_type": "execute_result"
    }
   ],
   "source": [
    "df.head()"
   ]
  },
  {
   "cell_type": "markdown",
   "id": "83d2eda1",
   "metadata": {
    "hidden": true
   },
   "source": [
    "Observation :\n",
    "    \n",
    "Columns\n",
    "id - identifier within each file.\n",
    "comment_text - the text of the comment to be classified.\n",
    "lang - the language of the comment.\n",
    "toxic - whether or not the comment is classified as toxic. (Does not exist in test.csv.) "
   ]
  },
  {
   "cell_type": "markdown",
   "id": "fcca4903",
   "metadata": {
    "heading_collapsed": true
   },
   "source": [
    "### Data description"
   ]
  },
  {
   "cell_type": "code",
   "execution_count": 4,
   "id": "8ea831cc",
   "metadata": {
    "hidden": true
   },
   "outputs": [
    {
     "data": {
      "text/plain": [
       "(223549, 11)"
      ]
     },
     "execution_count": 4,
     "metadata": {},
     "output_type": "execute_result"
    }
   ],
   "source": [
    "df.shape"
   ]
  },
  {
   "cell_type": "code",
   "execution_count": 5,
   "id": "37704cd6",
   "metadata": {
    "hidden": true
   },
   "outputs": [
    {
     "name": "stdout",
     "output_type": "stream",
     "text": [
      "<class 'pandas.core.frame.DataFrame'>\n",
      "RangeIndex: 223549 entries, 0 to 223548\n",
      "Data columns (total 11 columns):\n",
      " #   Column          Non-Null Count   Dtype \n",
      "---  ------          --------------   ----- \n",
      " 0   id              223549 non-null  object\n",
      " 1   comment_text    223549 non-null  object\n",
      " 2   toxic           223549 non-null  int64 \n",
      " 3   severe_toxic    223549 non-null  int64 \n",
      " 4   obscene         223549 non-null  int64 \n",
      " 5   threat          223549 non-null  int64 \n",
      " 6   insult          223549 non-null  int64 \n",
      " 7   identity_hate   223549 non-null  int64 \n",
      " 8   input_word_ids  223549 non-null  object\n",
      " 9   input_mask      223549 non-null  object\n",
      " 10  all_segment_id  223549 non-null  object\n",
      "dtypes: int64(6), object(5)\n",
      "memory usage: 18.8+ MB\n"
     ]
    }
   ],
   "source": [
    "df.info()"
   ]
  },
  {
   "cell_type": "code",
   "execution_count": 6,
   "id": "cb79f737",
   "metadata": {
    "hidden": true
   },
   "outputs": [
    {
     "data": {
      "text/html": [
       "<div>\n",
       "<style scoped>\n",
       "    .dataframe tbody tr th:only-of-type {\n",
       "        vertical-align: middle;\n",
       "    }\n",
       "\n",
       "    .dataframe tbody tr th {\n",
       "        vertical-align: top;\n",
       "    }\n",
       "\n",
       "    .dataframe thead th {\n",
       "        text-align: right;\n",
       "    }\n",
       "</style>\n",
       "<table border=\"1\" class=\"dataframe\">\n",
       "  <thead>\n",
       "    <tr style=\"text-align: right;\">\n",
       "      <th></th>\n",
       "      <th>id</th>\n",
       "      <th>comment_text</th>\n",
       "      <th>toxic</th>\n",
       "      <th>severe_toxic</th>\n",
       "      <th>obscene</th>\n",
       "      <th>threat</th>\n",
       "      <th>insult</th>\n",
       "      <th>identity_hate</th>\n",
       "      <th>input_word_ids</th>\n",
       "      <th>input_mask</th>\n",
       "      <th>all_segment_id</th>\n",
       "    </tr>\n",
       "  </thead>\n",
       "  <tbody>\n",
       "    <tr>\n",
       "      <th>0</th>\n",
       "      <td>False</td>\n",
       "      <td>False</td>\n",
       "      <td>False</td>\n",
       "      <td>False</td>\n",
       "      <td>False</td>\n",
       "      <td>False</td>\n",
       "      <td>False</td>\n",
       "      <td>False</td>\n",
       "      <td>False</td>\n",
       "      <td>False</td>\n",
       "      <td>False</td>\n",
       "    </tr>\n",
       "    <tr>\n",
       "      <th>1</th>\n",
       "      <td>False</td>\n",
       "      <td>False</td>\n",
       "      <td>False</td>\n",
       "      <td>False</td>\n",
       "      <td>False</td>\n",
       "      <td>False</td>\n",
       "      <td>False</td>\n",
       "      <td>False</td>\n",
       "      <td>False</td>\n",
       "      <td>False</td>\n",
       "      <td>False</td>\n",
       "    </tr>\n",
       "    <tr>\n",
       "      <th>2</th>\n",
       "      <td>False</td>\n",
       "      <td>False</td>\n",
       "      <td>False</td>\n",
       "      <td>False</td>\n",
       "      <td>False</td>\n",
       "      <td>False</td>\n",
       "      <td>False</td>\n",
       "      <td>False</td>\n",
       "      <td>False</td>\n",
       "      <td>False</td>\n",
       "      <td>False</td>\n",
       "    </tr>\n",
       "    <tr>\n",
       "      <th>3</th>\n",
       "      <td>False</td>\n",
       "      <td>False</td>\n",
       "      <td>False</td>\n",
       "      <td>False</td>\n",
       "      <td>False</td>\n",
       "      <td>False</td>\n",
       "      <td>False</td>\n",
       "      <td>False</td>\n",
       "      <td>False</td>\n",
       "      <td>False</td>\n",
       "      <td>False</td>\n",
       "    </tr>\n",
       "    <tr>\n",
       "      <th>4</th>\n",
       "      <td>False</td>\n",
       "      <td>False</td>\n",
       "      <td>False</td>\n",
       "      <td>False</td>\n",
       "      <td>False</td>\n",
       "      <td>False</td>\n",
       "      <td>False</td>\n",
       "      <td>False</td>\n",
       "      <td>False</td>\n",
       "      <td>False</td>\n",
       "      <td>False</td>\n",
       "    </tr>\n",
       "    <tr>\n",
       "      <th>...</th>\n",
       "      <td>...</td>\n",
       "      <td>...</td>\n",
       "      <td>...</td>\n",
       "      <td>...</td>\n",
       "      <td>...</td>\n",
       "      <td>...</td>\n",
       "      <td>...</td>\n",
       "      <td>...</td>\n",
       "      <td>...</td>\n",
       "      <td>...</td>\n",
       "      <td>...</td>\n",
       "    </tr>\n",
       "    <tr>\n",
       "      <th>223544</th>\n",
       "      <td>False</td>\n",
       "      <td>False</td>\n",
       "      <td>False</td>\n",
       "      <td>False</td>\n",
       "      <td>False</td>\n",
       "      <td>False</td>\n",
       "      <td>False</td>\n",
       "      <td>False</td>\n",
       "      <td>False</td>\n",
       "      <td>False</td>\n",
       "      <td>False</td>\n",
       "    </tr>\n",
       "    <tr>\n",
       "      <th>223545</th>\n",
       "      <td>False</td>\n",
       "      <td>False</td>\n",
       "      <td>False</td>\n",
       "      <td>False</td>\n",
       "      <td>False</td>\n",
       "      <td>False</td>\n",
       "      <td>False</td>\n",
       "      <td>False</td>\n",
       "      <td>False</td>\n",
       "      <td>False</td>\n",
       "      <td>False</td>\n",
       "    </tr>\n",
       "    <tr>\n",
       "      <th>223546</th>\n",
       "      <td>False</td>\n",
       "      <td>False</td>\n",
       "      <td>False</td>\n",
       "      <td>False</td>\n",
       "      <td>False</td>\n",
       "      <td>False</td>\n",
       "      <td>False</td>\n",
       "      <td>False</td>\n",
       "      <td>False</td>\n",
       "      <td>False</td>\n",
       "      <td>False</td>\n",
       "    </tr>\n",
       "    <tr>\n",
       "      <th>223547</th>\n",
       "      <td>False</td>\n",
       "      <td>False</td>\n",
       "      <td>False</td>\n",
       "      <td>False</td>\n",
       "      <td>False</td>\n",
       "      <td>False</td>\n",
       "      <td>False</td>\n",
       "      <td>False</td>\n",
       "      <td>False</td>\n",
       "      <td>False</td>\n",
       "      <td>False</td>\n",
       "    </tr>\n",
       "    <tr>\n",
       "      <th>223548</th>\n",
       "      <td>False</td>\n",
       "      <td>False</td>\n",
       "      <td>False</td>\n",
       "      <td>False</td>\n",
       "      <td>False</td>\n",
       "      <td>False</td>\n",
       "      <td>False</td>\n",
       "      <td>False</td>\n",
       "      <td>False</td>\n",
       "      <td>False</td>\n",
       "      <td>False</td>\n",
       "    </tr>\n",
       "  </tbody>\n",
       "</table>\n",
       "<p>223549 rows × 11 columns</p>\n",
       "</div>"
      ],
      "text/plain": [
       "           id  comment_text  toxic  severe_toxic  obscene  threat  insult  \\\n",
       "0       False         False  False         False    False   False   False   \n",
       "1       False         False  False         False    False   False   False   \n",
       "2       False         False  False         False    False   False   False   \n",
       "3       False         False  False         False    False   False   False   \n",
       "4       False         False  False         False    False   False   False   \n",
       "...       ...           ...    ...           ...      ...     ...     ...   \n",
       "223544  False         False  False         False    False   False   False   \n",
       "223545  False         False  False         False    False   False   False   \n",
       "223546  False         False  False         False    False   False   False   \n",
       "223547  False         False  False         False    False   False   False   \n",
       "223548  False         False  False         False    False   False   False   \n",
       "\n",
       "        identity_hate  input_word_ids  input_mask  all_segment_id  \n",
       "0               False           False       False           False  \n",
       "1               False           False       False           False  \n",
       "2               False           False       False           False  \n",
       "3               False           False       False           False  \n",
       "4               False           False       False           False  \n",
       "...               ...             ...         ...             ...  \n",
       "223544          False           False       False           False  \n",
       "223545          False           False       False           False  \n",
       "223546          False           False       False           False  \n",
       "223547          False           False       False           False  \n",
       "223548          False           False       False           False  \n",
       "\n",
       "[223549 rows x 11 columns]"
      ]
     },
     "execution_count": 6,
     "metadata": {},
     "output_type": "execute_result"
    }
   ],
   "source": [
    "df.isnull()"
   ]
  },
  {
   "cell_type": "code",
   "execution_count": 7,
   "id": "9d5a03dd",
   "metadata": {
    "hidden": true
   },
   "outputs": [
    {
     "data": {
      "text/html": [
       "<div>\n",
       "<style scoped>\n",
       "    .dataframe tbody tr th:only-of-type {\n",
       "        vertical-align: middle;\n",
       "    }\n",
       "\n",
       "    .dataframe tbody tr th {\n",
       "        vertical-align: top;\n",
       "    }\n",
       "\n",
       "    .dataframe thead th {\n",
       "        text-align: right;\n",
       "    }\n",
       "</style>\n",
       "<table border=\"1\" class=\"dataframe\">\n",
       "  <thead>\n",
       "    <tr style=\"text-align: right;\">\n",
       "      <th></th>\n",
       "      <th>toxic</th>\n",
       "      <th>severe_toxic</th>\n",
       "      <th>obscene</th>\n",
       "      <th>threat</th>\n",
       "      <th>insult</th>\n",
       "      <th>identity_hate</th>\n",
       "    </tr>\n",
       "  </thead>\n",
       "  <tbody>\n",
       "    <tr>\n",
       "      <th>count</th>\n",
       "      <td>223549.000000</td>\n",
       "      <td>223549.000000</td>\n",
       "      <td>223549.000000</td>\n",
       "      <td>223549.000000</td>\n",
       "      <td>223549.000000</td>\n",
       "      <td>223549.000000</td>\n",
       "    </tr>\n",
       "    <tr>\n",
       "      <th>mean</th>\n",
       "      <td>0.095657</td>\n",
       "      <td>0.008777</td>\n",
       "      <td>0.054306</td>\n",
       "      <td>0.003082</td>\n",
       "      <td>0.050566</td>\n",
       "      <td>0.009470</td>\n",
       "    </tr>\n",
       "    <tr>\n",
       "      <th>std</th>\n",
       "      <td>0.294121</td>\n",
       "      <td>0.093272</td>\n",
       "      <td>0.226621</td>\n",
       "      <td>0.055431</td>\n",
       "      <td>0.219110</td>\n",
       "      <td>0.096852</td>\n",
       "    </tr>\n",
       "    <tr>\n",
       "      <th>min</th>\n",
       "      <td>0.000000</td>\n",
       "      <td>0.000000</td>\n",
       "      <td>0.000000</td>\n",
       "      <td>0.000000</td>\n",
       "      <td>0.000000</td>\n",
       "      <td>0.000000</td>\n",
       "    </tr>\n",
       "    <tr>\n",
       "      <th>25%</th>\n",
       "      <td>0.000000</td>\n",
       "      <td>0.000000</td>\n",
       "      <td>0.000000</td>\n",
       "      <td>0.000000</td>\n",
       "      <td>0.000000</td>\n",
       "      <td>0.000000</td>\n",
       "    </tr>\n",
       "    <tr>\n",
       "      <th>50%</th>\n",
       "      <td>0.000000</td>\n",
       "      <td>0.000000</td>\n",
       "      <td>0.000000</td>\n",
       "      <td>0.000000</td>\n",
       "      <td>0.000000</td>\n",
       "      <td>0.000000</td>\n",
       "    </tr>\n",
       "    <tr>\n",
       "      <th>75%</th>\n",
       "      <td>0.000000</td>\n",
       "      <td>0.000000</td>\n",
       "      <td>0.000000</td>\n",
       "      <td>0.000000</td>\n",
       "      <td>0.000000</td>\n",
       "      <td>0.000000</td>\n",
       "    </tr>\n",
       "    <tr>\n",
       "      <th>max</th>\n",
       "      <td>1.000000</td>\n",
       "      <td>1.000000</td>\n",
       "      <td>1.000000</td>\n",
       "      <td>1.000000</td>\n",
       "      <td>1.000000</td>\n",
       "      <td>1.000000</td>\n",
       "    </tr>\n",
       "  </tbody>\n",
       "</table>\n",
       "</div>"
      ],
      "text/plain": [
       "               toxic   severe_toxic        obscene         threat  \\\n",
       "count  223549.000000  223549.000000  223549.000000  223549.000000   \n",
       "mean        0.095657       0.008777       0.054306       0.003082   \n",
       "std         0.294121       0.093272       0.226621       0.055431   \n",
       "min         0.000000       0.000000       0.000000       0.000000   \n",
       "25%         0.000000       0.000000       0.000000       0.000000   \n",
       "50%         0.000000       0.000000       0.000000       0.000000   \n",
       "75%         0.000000       0.000000       0.000000       0.000000   \n",
       "max         1.000000       1.000000       1.000000       1.000000   \n",
       "\n",
       "              insult  identity_hate  \n",
       "count  223549.000000  223549.000000  \n",
       "mean        0.050566       0.009470  \n",
       "std         0.219110       0.096852  \n",
       "min         0.000000       0.000000  \n",
       "25%         0.000000       0.000000  \n",
       "50%         0.000000       0.000000  \n",
       "75%         0.000000       0.000000  \n",
       "max         1.000000       1.000000  "
      ]
     },
     "execution_count": 7,
     "metadata": {},
     "output_type": "execute_result"
    }
   ],
   "source": [
    "df.describe()"
   ]
  },
  {
   "cell_type": "code",
   "execution_count": 64,
   "id": "5b46384d",
   "metadata": {
    "hidden": true
   },
   "outputs": [
    {
     "data": {
      "text/plain": [
       "(223549, 11)"
      ]
     },
     "execution_count": 64,
     "metadata": {},
     "output_type": "execute_result"
    }
   ],
   "source": [
    "df.shape"
   ]
  },
  {
   "cell_type": "markdown",
   "id": "44a3fb74",
   "metadata": {
    "hidden": true
   },
   "source": [
    "There are total 223549 data with 11 features"
   ]
  },
  {
   "cell_type": "code",
   "execution_count": 8,
   "id": "09b49c05",
   "metadata": {
    "hidden": true
   },
   "outputs": [],
   "source": [
    "df_final = df.head(10000)"
   ]
  },
  {
   "cell_type": "code",
   "execution_count": 9,
   "id": "ee970e3e",
   "metadata": {
    "hidden": true
   },
   "outputs": [
    {
     "data": {
      "text/html": [
       "<div>\n",
       "<style scoped>\n",
       "    .dataframe tbody tr th:only-of-type {\n",
       "        vertical-align: middle;\n",
       "    }\n",
       "\n",
       "    .dataframe tbody tr th {\n",
       "        vertical-align: top;\n",
       "    }\n",
       "\n",
       "    .dataframe thead th {\n",
       "        text-align: right;\n",
       "    }\n",
       "</style>\n",
       "<table border=\"1\" class=\"dataframe\">\n",
       "  <thead>\n",
       "    <tr style=\"text-align: right;\">\n",
       "      <th></th>\n",
       "      <th>id</th>\n",
       "      <th>comment_text</th>\n",
       "      <th>toxic</th>\n",
       "      <th>severe_toxic</th>\n",
       "      <th>obscene</th>\n",
       "      <th>threat</th>\n",
       "      <th>insult</th>\n",
       "      <th>identity_hate</th>\n",
       "      <th>input_word_ids</th>\n",
       "      <th>input_mask</th>\n",
       "      <th>all_segment_id</th>\n",
       "    </tr>\n",
       "  </thead>\n",
       "  <tbody>\n",
       "    <tr>\n",
       "      <th>0</th>\n",
       "      <td>0000997932d777bf</td>\n",
       "      <td>Explanation\\nWhy the edits made under my usern...</td>\n",
       "      <td>0</td>\n",
       "      <td>0</td>\n",
       "      <td>0</td>\n",
       "      <td>0</td>\n",
       "      <td>0</td>\n",
       "      <td>0</td>\n",
       "      <td>(101, 27746, 31609, 11809, 24781, 10105, 70971...</td>\n",
       "      <td>(1, 1, 1, 1, 1, 1, 1, 1, 1, 1, 1, 1, 1, 1, 1, ...</td>\n",
       "      <td>(0, 0, 0, 0, 0, 0, 0, 0, 0, 0, 0, 0, 0, 0, 0, ...</td>\n",
       "    </tr>\n",
       "    <tr>\n",
       "      <th>1</th>\n",
       "      <td>000103f0d9cfb60f</td>\n",
       "      <td>D'aww! He matches this background colour I'm s...</td>\n",
       "      <td>0</td>\n",
       "      <td>0</td>\n",
       "      <td>0</td>\n",
       "      <td>0</td>\n",
       "      <td>0</td>\n",
       "      <td>0</td>\n",
       "      <td>(101, 141, 112, 56237, 10874, 106, 10357, 1825...</td>\n",
       "      <td>(1, 1, 1, 1, 1, 1, 1, 1, 1, 1, 1, 1, 1, 1, 1, ...</td>\n",
       "      <td>(0, 0, 0, 0, 0, 0, 0, 0, 0, 0, 0, 0, 0, 0, 0, ...</td>\n",
       "    </tr>\n",
       "    <tr>\n",
       "      <th>2</th>\n",
       "      <td>000113f07ec002fd</td>\n",
       "      <td>Hey man, I'm really not trying to edit war. It...</td>\n",
       "      <td>0</td>\n",
       "      <td>0</td>\n",
       "      <td>0</td>\n",
       "      <td>0</td>\n",
       "      <td>0</td>\n",
       "      <td>0</td>\n",
       "      <td>(101, 35936, 10817, 117, 146, 112, 181, 30181,...</td>\n",
       "      <td>(1, 1, 1, 1, 1, 1, 1, 1, 1, 1, 1, 1, 1, 1, 1, ...</td>\n",
       "      <td>(0, 0, 0, 0, 0, 0, 0, 0, 0, 0, 0, 0, 0, 0, 0, ...</td>\n",
       "    </tr>\n",
       "    <tr>\n",
       "      <th>3</th>\n",
       "      <td>0001b41b1c6bb37e</td>\n",
       "      <td>\"\\nMore\\nI can't make any real suggestions on ...</td>\n",
       "      <td>0</td>\n",
       "      <td>0</td>\n",
       "      <td>0</td>\n",
       "      <td>0</td>\n",
       "      <td>0</td>\n",
       "      <td>0</td>\n",
       "      <td>(101, 107, 15946, 146, 10944, 112, 188, 13086,...</td>\n",
       "      <td>(1, 1, 1, 1, 1, 1, 1, 1, 1, 1, 1, 1, 1, 1, 1, ...</td>\n",
       "      <td>(0, 0, 0, 0, 0, 0, 0, 0, 0, 0, 0, 0, 0, 0, 0, ...</td>\n",
       "    </tr>\n",
       "    <tr>\n",
       "      <th>4</th>\n",
       "      <td>0001d958c54c6e35</td>\n",
       "      <td>You, sir, are my hero. Any chance you remember...</td>\n",
       "      <td>0</td>\n",
       "      <td>0</td>\n",
       "      <td>0</td>\n",
       "      <td>0</td>\n",
       "      <td>0</td>\n",
       "      <td>0</td>\n",
       "      <td>(101, 11065, 117, 52523, 117, 10301, 15127, 51...</td>\n",
       "      <td>(1, 1, 1, 1, 1, 1, 1, 1, 1, 1, 1, 1, 1, 1, 1, ...</td>\n",
       "      <td>(0, 0, 0, 0, 0, 0, 0, 0, 0, 0, 0, 0, 0, 0, 0, ...</td>\n",
       "    </tr>\n",
       "    <tr>\n",
       "      <th>...</th>\n",
       "      <td>...</td>\n",
       "      <td>...</td>\n",
       "      <td>...</td>\n",
       "      <td>...</td>\n",
       "      <td>...</td>\n",
       "      <td>...</td>\n",
       "      <td>...</td>\n",
       "      <td>...</td>\n",
       "      <td>...</td>\n",
       "      <td>...</td>\n",
       "      <td>...</td>\n",
       "    </tr>\n",
       "    <tr>\n",
       "      <th>9995</th>\n",
       "      <td>1a790ff1007a10e3</td>\n",
       "      <td>Numbers may be either listed separately at the...</td>\n",
       "      <td>0</td>\n",
       "      <td>0</td>\n",
       "      <td>0</td>\n",
       "      <td>0</td>\n",
       "      <td>0</td>\n",
       "      <td>0</td>\n",
       "      <td>(101, 51409, 11387, 10347, 16106, 17585, 91614...</td>\n",
       "      <td>(1, 1, 1, 1, 1, 1, 1, 1, 1, 1, 1, 1, 1, 1, 1, ...</td>\n",
       "      <td>(0, 0, 0, 0, 0, 0, 0, 0, 0, 0, 0, 0, 0, 0, 0, ...</td>\n",
       "    </tr>\n",
       "    <tr>\n",
       "      <th>9996</th>\n",
       "      <td>1a7a4868968e2b9e</td>\n",
       "      <td>Those two love to disagree, don't they? 206.17...</td>\n",
       "      <td>0</td>\n",
       "      <td>0</td>\n",
       "      <td>0</td>\n",
       "      <td>0</td>\n",
       "      <td>0</td>\n",
       "      <td>0</td>\n",
       "      <td>(101, 43027, 10551, 16138, 10114, 36474, 91479...</td>\n",
       "      <td>(1, 1, 1, 1, 1, 1, 1, 1, 1, 1, 1, 1, 1, 1, 1, ...</td>\n",
       "      <td>(0, 0, 0, 0, 0, 0, 0, 0, 0, 0, 0, 0, 0, 0, 0, ...</td>\n",
       "    </tr>\n",
       "    <tr>\n",
       "      <th>9997</th>\n",
       "      <td>1a7c3bec9a71415d</td>\n",
       "      <td>\"I have changed \"\"Lance Thomas\"\" to \"\"Lance Th...</td>\n",
       "      <td>0</td>\n",
       "      <td>0</td>\n",
       "      <td>0</td>\n",
       "      <td>0</td>\n",
       "      <td>0</td>\n",
       "      <td>0</td>\n",
       "      <td>(101, 107, 146, 10529, 17695, 107, 107, 45013,...</td>\n",
       "      <td>(1, 1, 1, 1, 1, 1, 1, 1, 1, 1, 1, 1, 1, 1, 1, ...</td>\n",
       "      <td>(0, 0, 0, 0, 0, 0, 0, 0, 0, 0, 0, 0, 0, 0, 0, ...</td>\n",
       "    </tr>\n",
       "    <tr>\n",
       "      <th>9998</th>\n",
       "      <td>1a7c9c14b0cf0fe0</td>\n",
       "      <td>states \\n\\nCourts: I have been putting all art...</td>\n",
       "      <td>0</td>\n",
       "      <td>0</td>\n",
       "      <td>0</td>\n",
       "      <td>0</td>\n",
       "      <td>0</td>\n",
       "      <td>0</td>\n",
       "      <td>(101, 16316, 14100, 10107, 131, 146, 10529, 10...</td>\n",
       "      <td>(1, 1, 1, 1, 1, 1, 1, 1, 1, 1, 1, 1, 1, 1, 1, ...</td>\n",
       "      <td>(0, 0, 0, 0, 0, 0, 0, 0, 0, 0, 0, 0, 0, 0, 0, ...</td>\n",
       "    </tr>\n",
       "    <tr>\n",
       "      <th>9999</th>\n",
       "      <td>1a7d550fec6e9777</td>\n",
       "      <td>Will do buddy ). But what is this thing about ...</td>\n",
       "      <td>0</td>\n",
       "      <td>0</td>\n",
       "      <td>0</td>\n",
       "      <td>0</td>\n",
       "      <td>0</td>\n",
       "      <td>0</td>\n",
       "      <td>(101, 15380, 10149, 11499, 56056, 114, 119, 16...</td>\n",
       "      <td>(1, 1, 1, 1, 1, 1, 1, 1, 1, 1, 1, 1, 1, 1, 1, ...</td>\n",
       "      <td>(0, 0, 0, 0, 0, 0, 0, 0, 0, 0, 0, 0, 0, 0, 0, ...</td>\n",
       "    </tr>\n",
       "  </tbody>\n",
       "</table>\n",
       "<p>10000 rows × 11 columns</p>\n",
       "</div>"
      ],
      "text/plain": [
       "                    id                                       comment_text  \\\n",
       "0     0000997932d777bf  Explanation\\nWhy the edits made under my usern...   \n",
       "1     000103f0d9cfb60f  D'aww! He matches this background colour I'm s...   \n",
       "2     000113f07ec002fd  Hey man, I'm really not trying to edit war. It...   \n",
       "3     0001b41b1c6bb37e  \"\\nMore\\nI can't make any real suggestions on ...   \n",
       "4     0001d958c54c6e35  You, sir, are my hero. Any chance you remember...   \n",
       "...                ...                                                ...   \n",
       "9995  1a790ff1007a10e3  Numbers may be either listed separately at the...   \n",
       "9996  1a7a4868968e2b9e  Those two love to disagree, don't they? 206.17...   \n",
       "9997  1a7c3bec9a71415d  \"I have changed \"\"Lance Thomas\"\" to \"\"Lance Th...   \n",
       "9998  1a7c9c14b0cf0fe0  states \\n\\nCourts: I have been putting all art...   \n",
       "9999  1a7d550fec6e9777  Will do buddy ). But what is this thing about ...   \n",
       "\n",
       "      toxic  severe_toxic  obscene  threat  insult  identity_hate  \\\n",
       "0         0             0        0       0       0              0   \n",
       "1         0             0        0       0       0              0   \n",
       "2         0             0        0       0       0              0   \n",
       "3         0             0        0       0       0              0   \n",
       "4         0             0        0       0       0              0   \n",
       "...     ...           ...      ...     ...     ...            ...   \n",
       "9995      0             0        0       0       0              0   \n",
       "9996      0             0        0       0       0              0   \n",
       "9997      0             0        0       0       0              0   \n",
       "9998      0             0        0       0       0              0   \n",
       "9999      0             0        0       0       0              0   \n",
       "\n",
       "                                         input_word_ids  \\\n",
       "0     (101, 27746, 31609, 11809, 24781, 10105, 70971...   \n",
       "1     (101, 141, 112, 56237, 10874, 106, 10357, 1825...   \n",
       "2     (101, 35936, 10817, 117, 146, 112, 181, 30181,...   \n",
       "3     (101, 107, 15946, 146, 10944, 112, 188, 13086,...   \n",
       "4     (101, 11065, 117, 52523, 117, 10301, 15127, 51...   \n",
       "...                                                 ...   \n",
       "9995  (101, 51409, 11387, 10347, 16106, 17585, 91614...   \n",
       "9996  (101, 43027, 10551, 16138, 10114, 36474, 91479...   \n",
       "9997  (101, 107, 146, 10529, 17695, 107, 107, 45013,...   \n",
       "9998  (101, 16316, 14100, 10107, 131, 146, 10529, 10...   \n",
       "9999  (101, 15380, 10149, 11499, 56056, 114, 119, 16...   \n",
       "\n",
       "                                             input_mask  \\\n",
       "0     (1, 1, 1, 1, 1, 1, 1, 1, 1, 1, 1, 1, 1, 1, 1, ...   \n",
       "1     (1, 1, 1, 1, 1, 1, 1, 1, 1, 1, 1, 1, 1, 1, 1, ...   \n",
       "2     (1, 1, 1, 1, 1, 1, 1, 1, 1, 1, 1, 1, 1, 1, 1, ...   \n",
       "3     (1, 1, 1, 1, 1, 1, 1, 1, 1, 1, 1, 1, 1, 1, 1, ...   \n",
       "4     (1, 1, 1, 1, 1, 1, 1, 1, 1, 1, 1, 1, 1, 1, 1, ...   \n",
       "...                                                 ...   \n",
       "9995  (1, 1, 1, 1, 1, 1, 1, 1, 1, 1, 1, 1, 1, 1, 1, ...   \n",
       "9996  (1, 1, 1, 1, 1, 1, 1, 1, 1, 1, 1, 1, 1, 1, 1, ...   \n",
       "9997  (1, 1, 1, 1, 1, 1, 1, 1, 1, 1, 1, 1, 1, 1, 1, ...   \n",
       "9998  (1, 1, 1, 1, 1, 1, 1, 1, 1, 1, 1, 1, 1, 1, 1, ...   \n",
       "9999  (1, 1, 1, 1, 1, 1, 1, 1, 1, 1, 1, 1, 1, 1, 1, ...   \n",
       "\n",
       "                                         all_segment_id  \n",
       "0     (0, 0, 0, 0, 0, 0, 0, 0, 0, 0, 0, 0, 0, 0, 0, ...  \n",
       "1     (0, 0, 0, 0, 0, 0, 0, 0, 0, 0, 0, 0, 0, 0, 0, ...  \n",
       "2     (0, 0, 0, 0, 0, 0, 0, 0, 0, 0, 0, 0, 0, 0, 0, ...  \n",
       "3     (0, 0, 0, 0, 0, 0, 0, 0, 0, 0, 0, 0, 0, 0, 0, ...  \n",
       "4     (0, 0, 0, 0, 0, 0, 0, 0, 0, 0, 0, 0, 0, 0, 0, ...  \n",
       "...                                                 ...  \n",
       "9995  (0, 0, 0, 0, 0, 0, 0, 0, 0, 0, 0, 0, 0, 0, 0, ...  \n",
       "9996  (0, 0, 0, 0, 0, 0, 0, 0, 0, 0, 0, 0, 0, 0, 0, ...  \n",
       "9997  (0, 0, 0, 0, 0, 0, 0, 0, 0, 0, 0, 0, 0, 0, 0, ...  \n",
       "9998  (0, 0, 0, 0, 0, 0, 0, 0, 0, 0, 0, 0, 0, 0, 0, ...  \n",
       "9999  (0, 0, 0, 0, 0, 0, 0, 0, 0, 0, 0, 0, 0, 0, 0, ...  \n",
       "\n",
       "[10000 rows x 11 columns]"
      ]
     },
     "execution_count": 9,
     "metadata": {},
     "output_type": "execute_result"
    }
   ],
   "source": [
    "df_final"
   ]
  },
  {
   "cell_type": "markdown",
   "id": "323e5923",
   "metadata": {
    "hidden": true
   },
   "source": [
    "Observation : first 1000 data of the dataset"
   ]
  },
  {
   "cell_type": "markdown",
   "id": "612d6dfa",
   "metadata": {
    "heading_collapsed": true
   },
   "source": [
    "### Data Preprocessing"
   ]
  },
  {
   "cell_type": "markdown",
   "id": "46ceaf5b",
   "metadata": {
    "heading_collapsed": true,
    "hidden": true
   },
   "source": [
    "#### Remove stop words"
   ]
  },
  {
   "cell_type": "code",
   "execution_count": 10,
   "id": "47e07f20",
   "metadata": {
    "hidden": true
   },
   "outputs": [
    {
     "name": "stderr",
     "output_type": "stream",
     "text": [
      "[nltk_data] Downloading package stopwords to\n",
      "[nltk_data]     /Users/c100-122/nltk_data...\n",
      "[nltk_data]   Package stopwords is already up-to-date!\n"
     ]
    }
   ],
   "source": [
    "# Download the stopwords \n",
    "nltk.download('stopwords')\n",
    "\n",
    "# Function to remove stop words from a text\n",
    "def remove_stopwords(text):\n",
    "    stop_words = set(stopwords.words('english'))\n",
    "    words = text.split()\n",
    "    filtered_words = [word for word in words if word.lower() not in stop_words]\n",
    "    return ' '.join(filtered_words)\n",
    "\n",
    "# Apply stop word removal to the 'comment_text' column\n",
    "df['comment_text'] = df['comment_text'].apply(remove_stopwords)"
   ]
  },
  {
   "cell_type": "markdown",
   "id": "e020935a",
   "metadata": {
    "hidden": true
   },
   "source": [
    "1) It starts by downloading the required stopwords from the NLTK library using nltk.download('stopwords'). Stop words are commonly occurring words (e.g., \"the,\" \"and,\" \"is\") that do not contribute much to the overall meaning of the text.\n",
    "\n",
    "2) The remove_stopwords function is defined, which takes a text input and removes the stop words from it. It utilizes the NLTK library's set of English stop words obtained through stopwords.words('english').\n",
    "\n",
    "3) Inside the function, the input text is split into individual words. Then, a list comprehension is used to filter out the stop words by checking if each word (converted to lowercase) is present in the set of stop words.\n",
    "\n",
    "4) Finally, the filtered words are joined back together using ' '.join(filtered_words) to form a sentence without the stop words. This modified text is then assigned back to the 'comment_text' column of the DataFrame, effectively removing the stop words."
   ]
  },
  {
   "cell_type": "code",
   "execution_count": 11,
   "id": "01eb48b1",
   "metadata": {
    "hidden": true
   },
   "outputs": [
    {
     "data": {
      "text/html": [
       "<div>\n",
       "<style scoped>\n",
       "    .dataframe tbody tr th:only-of-type {\n",
       "        vertical-align: middle;\n",
       "    }\n",
       "\n",
       "    .dataframe tbody tr th {\n",
       "        vertical-align: top;\n",
       "    }\n",
       "\n",
       "    .dataframe thead th {\n",
       "        text-align: right;\n",
       "    }\n",
       "</style>\n",
       "<table border=\"1\" class=\"dataframe\">\n",
       "  <thead>\n",
       "    <tr style=\"text-align: right;\">\n",
       "      <th></th>\n",
       "      <th>id</th>\n",
       "      <th>comment_text</th>\n",
       "      <th>toxic</th>\n",
       "      <th>severe_toxic</th>\n",
       "      <th>obscene</th>\n",
       "      <th>threat</th>\n",
       "      <th>insult</th>\n",
       "      <th>identity_hate</th>\n",
       "      <th>input_word_ids</th>\n",
       "      <th>input_mask</th>\n",
       "      <th>all_segment_id</th>\n",
       "    </tr>\n",
       "  </thead>\n",
       "  <tbody>\n",
       "    <tr>\n",
       "      <th>0</th>\n",
       "      <td>0000997932d777bf</td>\n",
       "      <td>Explanation edits made username Hardcore Metal...</td>\n",
       "      <td>0</td>\n",
       "      <td>0</td>\n",
       "      <td>0</td>\n",
       "      <td>0</td>\n",
       "      <td>0</td>\n",
       "      <td>0</td>\n",
       "      <td>(101, 27746, 31609, 11809, 24781, 10105, 70971...</td>\n",
       "      <td>(1, 1, 1, 1, 1, 1, 1, 1, 1, 1, 1, 1, 1, 1, 1, ...</td>\n",
       "      <td>(0, 0, 0, 0, 0, 0, 0, 0, 0, 0, 0, 0, 0, 0, 0, ...</td>\n",
       "    </tr>\n",
       "    <tr>\n",
       "      <th>1</th>\n",
       "      <td>000103f0d9cfb60f</td>\n",
       "      <td>D'aww! matches background colour I'm seemingly...</td>\n",
       "      <td>0</td>\n",
       "      <td>0</td>\n",
       "      <td>0</td>\n",
       "      <td>0</td>\n",
       "      <td>0</td>\n",
       "      <td>0</td>\n",
       "      <td>(101, 141, 112, 56237, 10874, 106, 10357, 1825...</td>\n",
       "      <td>(1, 1, 1, 1, 1, 1, 1, 1, 1, 1, 1, 1, 1, 1, 1, ...</td>\n",
       "      <td>(0, 0, 0, 0, 0, 0, 0, 0, 0, 0, 0, 0, 0, 0, 0, ...</td>\n",
       "    </tr>\n",
       "  </tbody>\n",
       "</table>\n",
       "</div>"
      ],
      "text/plain": [
       "                 id                                       comment_text  toxic  \\\n",
       "0  0000997932d777bf  Explanation edits made username Hardcore Metal...      0   \n",
       "1  000103f0d9cfb60f  D'aww! matches background colour I'm seemingly...      0   \n",
       "\n",
       "   severe_toxic  obscene  threat  insult  identity_hate  \\\n",
       "0             0        0       0       0              0   \n",
       "1             0        0       0       0              0   \n",
       "\n",
       "                                      input_word_ids  \\\n",
       "0  (101, 27746, 31609, 11809, 24781, 10105, 70971...   \n",
       "1  (101, 141, 112, 56237, 10874, 106, 10357, 1825...   \n",
       "\n",
       "                                          input_mask  \\\n",
       "0  (1, 1, 1, 1, 1, 1, 1, 1, 1, 1, 1, 1, 1, 1, 1, ...   \n",
       "1  (1, 1, 1, 1, 1, 1, 1, 1, 1, 1, 1, 1, 1, 1, 1, ...   \n",
       "\n",
       "                                      all_segment_id  \n",
       "0  (0, 0, 0, 0, 0, 0, 0, 0, 0, 0, 0, 0, 0, 0, 0, ...  \n",
       "1  (0, 0, 0, 0, 0, 0, 0, 0, 0, 0, 0, 0, 0, 0, 0, ...  "
      ]
     },
     "execution_count": 11,
     "metadata": {},
     "output_type": "execute_result"
    }
   ],
   "source": [
    "df.head(2)"
   ]
  },
  {
   "cell_type": "markdown",
   "id": "813e8e53",
   "metadata": {
    "heading_collapsed": true,
    "hidden": true
   },
   "source": [
    "#### Remove punctuation"
   ]
  },
  {
   "cell_type": "code",
   "execution_count": 12,
   "id": "2992db6a",
   "metadata": {
    "hidden": true
   },
   "outputs": [],
   "source": [
    "# Function to remove punctuation from a text\n",
    "def remove_punctuation(text):\n",
    "    translator = str.maketrans('', '', string.punctuation)\n",
    "    return text.translate(translator)\n",
    "\n",
    "# Apply stop word removal and punctuation removal to the 'comment_text' column\n",
    "df['comment_text'] = df['comment_text'].apply(remove_punctuation)"
   ]
  },
  {
   "cell_type": "markdown",
   "id": "69fe516c",
   "metadata": {
    "hidden": true
   },
   "source": [
    "The written code defines a function called remove_punctuation that takes a text as input and removes any punctuation characters from it using the str.maketrans() and translate() methods.\n",
    "\n",
    "After defining the function, it applies the remove_punctuation function to the 'comment_text' column of a DataFrame named df. This column presumably contains text data that needs to be preprocessed by removing punctuation.\n",
    "\n",
    "By removing punctuation from the text data, the code aims to clean the text and remove any punctuation marks that might not contribute significantly to the analysis or modeling tasks."
   ]
  },
  {
   "cell_type": "code",
   "execution_count": 13,
   "id": "28e4b1c6",
   "metadata": {
    "hidden": true
   },
   "outputs": [
    {
     "data": {
      "text/html": [
       "<div>\n",
       "<style scoped>\n",
       "    .dataframe tbody tr th:only-of-type {\n",
       "        vertical-align: middle;\n",
       "    }\n",
       "\n",
       "    .dataframe tbody tr th {\n",
       "        vertical-align: top;\n",
       "    }\n",
       "\n",
       "    .dataframe thead th {\n",
       "        text-align: right;\n",
       "    }\n",
       "</style>\n",
       "<table border=\"1\" class=\"dataframe\">\n",
       "  <thead>\n",
       "    <tr style=\"text-align: right;\">\n",
       "      <th></th>\n",
       "      <th>id</th>\n",
       "      <th>comment_text</th>\n",
       "      <th>toxic</th>\n",
       "      <th>severe_toxic</th>\n",
       "      <th>obscene</th>\n",
       "      <th>threat</th>\n",
       "      <th>insult</th>\n",
       "      <th>identity_hate</th>\n",
       "      <th>input_word_ids</th>\n",
       "      <th>input_mask</th>\n",
       "      <th>all_segment_id</th>\n",
       "    </tr>\n",
       "  </thead>\n",
       "  <tbody>\n",
       "    <tr>\n",
       "      <th>0</th>\n",
       "      <td>0000997932d777bf</td>\n",
       "      <td>Explanation edits made username Hardcore Metal...</td>\n",
       "      <td>0</td>\n",
       "      <td>0</td>\n",
       "      <td>0</td>\n",
       "      <td>0</td>\n",
       "      <td>0</td>\n",
       "      <td>0</td>\n",
       "      <td>(101, 27746, 31609, 11809, 24781, 10105, 70971...</td>\n",
       "      <td>(1, 1, 1, 1, 1, 1, 1, 1, 1, 1, 1, 1, 1, 1, 1, ...</td>\n",
       "      <td>(0, 0, 0, 0, 0, 0, 0, 0, 0, 0, 0, 0, 0, 0, 0, ...</td>\n",
       "    </tr>\n",
       "    <tr>\n",
       "      <th>1</th>\n",
       "      <td>000103f0d9cfb60f</td>\n",
       "      <td>Daww matches background colour Im seemingly st...</td>\n",
       "      <td>0</td>\n",
       "      <td>0</td>\n",
       "      <td>0</td>\n",
       "      <td>0</td>\n",
       "      <td>0</td>\n",
       "      <td>0</td>\n",
       "      <td>(101, 141, 112, 56237, 10874, 106, 10357, 1825...</td>\n",
       "      <td>(1, 1, 1, 1, 1, 1, 1, 1, 1, 1, 1, 1, 1, 1, 1, ...</td>\n",
       "      <td>(0, 0, 0, 0, 0, 0, 0, 0, 0, 0, 0, 0, 0, 0, 0, ...</td>\n",
       "    </tr>\n",
       "  </tbody>\n",
       "</table>\n",
       "</div>"
      ],
      "text/plain": [
       "                 id                                       comment_text  toxic  \\\n",
       "0  0000997932d777bf  Explanation edits made username Hardcore Metal...      0   \n",
       "1  000103f0d9cfb60f  Daww matches background colour Im seemingly st...      0   \n",
       "\n",
       "   severe_toxic  obscene  threat  insult  identity_hate  \\\n",
       "0             0        0       0       0              0   \n",
       "1             0        0       0       0              0   \n",
       "\n",
       "                                      input_word_ids  \\\n",
       "0  (101, 27746, 31609, 11809, 24781, 10105, 70971...   \n",
       "1  (101, 141, 112, 56237, 10874, 106, 10357, 1825...   \n",
       "\n",
       "                                          input_mask  \\\n",
       "0  (1, 1, 1, 1, 1, 1, 1, 1, 1, 1, 1, 1, 1, 1, 1, ...   \n",
       "1  (1, 1, 1, 1, 1, 1, 1, 1, 1, 1, 1, 1, 1, 1, 1, ...   \n",
       "\n",
       "                                      all_segment_id  \n",
       "0  (0, 0, 0, 0, 0, 0, 0, 0, 0, 0, 0, 0, 0, 0, 0, ...  \n",
       "1  (0, 0, 0, 0, 0, 0, 0, 0, 0, 0, 0, 0, 0, 0, 0, ...  "
      ]
     },
     "execution_count": 13,
     "metadata": {},
     "output_type": "execute_result"
    }
   ],
   "source": [
    "df.head(2)"
   ]
  },
  {
   "cell_type": "markdown",
   "id": "7de310ee",
   "metadata": {
    "heading_collapsed": true,
    "hidden": true
   },
   "source": [
    "#### Remove numbers"
   ]
  },
  {
   "cell_type": "code",
   "execution_count": 14,
   "id": "10f0cab5",
   "metadata": {
    "hidden": true
   },
   "outputs": [],
   "source": [
    "# Function to remove stop words and numbers from a text\n",
    "def remove_stopwords_numbers(text):\n",
    "    stop_words = set(stopwords.words('english'))\n",
    "    words = text.split()\n",
    "    filtered_words = [word for word in words if word.lower() not in stop_words and not re.match(r'\\d+', word)]\n",
    "    return ' '.join(filtered_words)\n",
    "\n",
    "# Apply stop word and number removal to the 'comment_text' column\n",
    "df['comment_text'] = df['comment_text'].apply(remove_stopwords_numbers)"
   ]
  },
  {
   "cell_type": "markdown",
   "id": "56513907",
   "metadata": {
    "hidden": true
   },
   "source": [
    "1)PThe function takes a text as input.\n",
    "\n",
    "2)It initializes a set of English stopwords using stopwords.words('english') from the NLTK library.\n",
    "\n",
    "3)The text is split into individual words using the split() method.\n",
    "\n",
    "4)The function creates a new list filtered_words that includes only those words which are not in the stop words set (word.lower() not in stop_words) and do not match the pattern of a number (not re.match(r'\\d+', word)).\n",
    "\n",
    "5)Finally, the filtered words are joined back together into a string using ' '.join(filtered_words) and returned as the result."
   ]
  },
  {
   "cell_type": "code",
   "execution_count": 15,
   "id": "637d40c8",
   "metadata": {
    "hidden": true
   },
   "outputs": [
    {
     "data": {
      "text/html": [
       "<div>\n",
       "<style scoped>\n",
       "    .dataframe tbody tr th:only-of-type {\n",
       "        vertical-align: middle;\n",
       "    }\n",
       "\n",
       "    .dataframe tbody tr th {\n",
       "        vertical-align: top;\n",
       "    }\n",
       "\n",
       "    .dataframe thead th {\n",
       "        text-align: right;\n",
       "    }\n",
       "</style>\n",
       "<table border=\"1\" class=\"dataframe\">\n",
       "  <thead>\n",
       "    <tr style=\"text-align: right;\">\n",
       "      <th></th>\n",
       "      <th>id</th>\n",
       "      <th>comment_text</th>\n",
       "      <th>toxic</th>\n",
       "      <th>severe_toxic</th>\n",
       "      <th>obscene</th>\n",
       "      <th>threat</th>\n",
       "      <th>insult</th>\n",
       "      <th>identity_hate</th>\n",
       "      <th>input_word_ids</th>\n",
       "      <th>input_mask</th>\n",
       "      <th>all_segment_id</th>\n",
       "    </tr>\n",
       "  </thead>\n",
       "  <tbody>\n",
       "    <tr>\n",
       "      <th>0</th>\n",
       "      <td>0000997932d777bf</td>\n",
       "      <td>Explanation edits made username Hardcore Metal...</td>\n",
       "      <td>0</td>\n",
       "      <td>0</td>\n",
       "      <td>0</td>\n",
       "      <td>0</td>\n",
       "      <td>0</td>\n",
       "      <td>0</td>\n",
       "      <td>(101, 27746, 31609, 11809, 24781, 10105, 70971...</td>\n",
       "      <td>(1, 1, 1, 1, 1, 1, 1, 1, 1, 1, 1, 1, 1, 1, 1, ...</td>\n",
       "      <td>(0, 0, 0, 0, 0, 0, 0, 0, 0, 0, 0, 0, 0, 0, 0, ...</td>\n",
       "    </tr>\n",
       "    <tr>\n",
       "      <th>1</th>\n",
       "      <td>000103f0d9cfb60f</td>\n",
       "      <td>Daww matches background colour Im seemingly st...</td>\n",
       "      <td>0</td>\n",
       "      <td>0</td>\n",
       "      <td>0</td>\n",
       "      <td>0</td>\n",
       "      <td>0</td>\n",
       "      <td>0</td>\n",
       "      <td>(101, 141, 112, 56237, 10874, 106, 10357, 1825...</td>\n",
       "      <td>(1, 1, 1, 1, 1, 1, 1, 1, 1, 1, 1, 1, 1, 1, 1, ...</td>\n",
       "      <td>(0, 0, 0, 0, 0, 0, 0, 0, 0, 0, 0, 0, 0, 0, 0, ...</td>\n",
       "    </tr>\n",
       "  </tbody>\n",
       "</table>\n",
       "</div>"
      ],
      "text/plain": [
       "                 id                                       comment_text  toxic  \\\n",
       "0  0000997932d777bf  Explanation edits made username Hardcore Metal...      0   \n",
       "1  000103f0d9cfb60f  Daww matches background colour Im seemingly st...      0   \n",
       "\n",
       "   severe_toxic  obscene  threat  insult  identity_hate  \\\n",
       "0             0        0       0       0              0   \n",
       "1             0        0       0       0              0   \n",
       "\n",
       "                                      input_word_ids  \\\n",
       "0  (101, 27746, 31609, 11809, 24781, 10105, 70971...   \n",
       "1  (101, 141, 112, 56237, 10874, 106, 10357, 1825...   \n",
       "\n",
       "                                          input_mask  \\\n",
       "0  (1, 1, 1, 1, 1, 1, 1, 1, 1, 1, 1, 1, 1, 1, 1, ...   \n",
       "1  (1, 1, 1, 1, 1, 1, 1, 1, 1, 1, 1, 1, 1, 1, 1, ...   \n",
       "\n",
       "                                      all_segment_id  \n",
       "0  (0, 0, 0, 0, 0, 0, 0, 0, 0, 0, 0, 0, 0, 0, 0, ...  \n",
       "1  (0, 0, 0, 0, 0, 0, 0, 0, 0, 0, 0, 0, 0, 0, 0, ...  "
      ]
     },
     "execution_count": 15,
     "metadata": {},
     "output_type": "execute_result"
    }
   ],
   "source": [
    "df.head(2)"
   ]
  },
  {
   "cell_type": "markdown",
   "id": "2c51c04e",
   "metadata": {
    "heading_collapsed": true,
    "hidden": true
   },
   "source": [
    "#### Tokenize the data and convert them into sentence"
   ]
  },
  {
   "cell_type": "code",
   "execution_count": 16,
   "id": "71ff6e78",
   "metadata": {
    "code_folding": [],
    "hidden": true
   },
   "outputs": [
    {
     "name": "stderr",
     "output_type": "stream",
     "text": [
      "[nltk_data] Downloading package punkt to /Users/c100-122/nltk_data...\n",
      "[nltk_data]   Package punkt is already up-to-date!\n"
     ]
    }
   ],
   "source": [
    "nltk.download('punkt')\n",
    "\n",
    "# Function to remove stop words and numbers from a text, tokenize it into sentences\n",
    "def preprocess_text(text):\n",
    "    stop_words = set(stopwords.words('english'))\n",
    "    sentences = sent_tokenize(text)\n",
    "    tokenized_sentences = []\n",
    "    for sentence in sentences:\n",
    "        words = nltk.word_tokenize(sentence)\n",
    "        filtered_words = [word for word in words if word.lower() not in stop_words]\n",
    "        tokenized_sentence = ' '.join(filtered_words)\n",
    "        tokenized_sentences.append(tokenized_sentence)\n",
    "    return tokenized_sentences\n",
    "\n",
    "# Apply text preprocessing to the 'comment_text' column\n",
    "df['comment_text'] = df['comment_text'].apply(preprocess_text)\n"
   ]
  },
  {
   "cell_type": "markdown",
   "id": "43f6dd2b",
   "metadata": {
    "hidden": true
   },
   "source": [
    "The written code includes a function called preprocess_text that performs text preprocessing on the 'comment_text' column of a DataFrame named df. The function removes stop words and numbers from the text, tokenizes it into sentences using the sent_tokenize function from NLTK, and then tokenizes each sentence into words using the word_tokenize function. It filters out stop words from the words list and joins the filtered words back into a tokenized sentence. The function returns a list of tokenized sentences.\n",
    "\n",
    "To use this function, the NLTK package needs to be downloaded by running nltk.download('punkt').\n",
    "\n",
    "The code applies the preprocess_text function to the 'comment_text' column of the DataFrame df by using the apply method. This ensures that text preprocessing is performed on each comment in the 'comment_text' column."
   ]
  },
  {
   "cell_type": "code",
   "execution_count": 17,
   "id": "66730e82",
   "metadata": {
    "hidden": true
   },
   "outputs": [
    {
     "data": {
      "text/html": [
       "<div>\n",
       "<style scoped>\n",
       "    .dataframe tbody tr th:only-of-type {\n",
       "        vertical-align: middle;\n",
       "    }\n",
       "\n",
       "    .dataframe tbody tr th {\n",
       "        vertical-align: top;\n",
       "    }\n",
       "\n",
       "    .dataframe thead th {\n",
       "        text-align: right;\n",
       "    }\n",
       "</style>\n",
       "<table border=\"1\" class=\"dataframe\">\n",
       "  <thead>\n",
       "    <tr style=\"text-align: right;\">\n",
       "      <th></th>\n",
       "      <th>id</th>\n",
       "      <th>comment_text</th>\n",
       "      <th>toxic</th>\n",
       "      <th>severe_toxic</th>\n",
       "      <th>obscene</th>\n",
       "      <th>threat</th>\n",
       "      <th>insult</th>\n",
       "      <th>identity_hate</th>\n",
       "      <th>input_word_ids</th>\n",
       "      <th>input_mask</th>\n",
       "      <th>all_segment_id</th>\n",
       "    </tr>\n",
       "  </thead>\n",
       "  <tbody>\n",
       "    <tr>\n",
       "      <th>0</th>\n",
       "      <td>0000997932d777bf</td>\n",
       "      <td>[Explanation edits made username Hardcore Meta...</td>\n",
       "      <td>0</td>\n",
       "      <td>0</td>\n",
       "      <td>0</td>\n",
       "      <td>0</td>\n",
       "      <td>0</td>\n",
       "      <td>0</td>\n",
       "      <td>(101, 27746, 31609, 11809, 24781, 10105, 70971...</td>\n",
       "      <td>(1, 1, 1, 1, 1, 1, 1, 1, 1, 1, 1, 1, 1, 1, 1, ...</td>\n",
       "      <td>(0, 0, 0, 0, 0, 0, 0, 0, 0, 0, 0, 0, 0, 0, 0, ...</td>\n",
       "    </tr>\n",
       "    <tr>\n",
       "      <th>1</th>\n",
       "      <td>000103f0d9cfb60f</td>\n",
       "      <td>[Daww matches background colour Im seemingly s...</td>\n",
       "      <td>0</td>\n",
       "      <td>0</td>\n",
       "      <td>0</td>\n",
       "      <td>0</td>\n",
       "      <td>0</td>\n",
       "      <td>0</td>\n",
       "      <td>(101, 141, 112, 56237, 10874, 106, 10357, 1825...</td>\n",
       "      <td>(1, 1, 1, 1, 1, 1, 1, 1, 1, 1, 1, 1, 1, 1, 1, ...</td>\n",
       "      <td>(0, 0, 0, 0, 0, 0, 0, 0, 0, 0, 0, 0, 0, 0, 0, ...</td>\n",
       "    </tr>\n",
       "  </tbody>\n",
       "</table>\n",
       "</div>"
      ],
      "text/plain": [
       "                 id                                       comment_text  toxic  \\\n",
       "0  0000997932d777bf  [Explanation edits made username Hardcore Meta...      0   \n",
       "1  000103f0d9cfb60f  [Daww matches background colour Im seemingly s...      0   \n",
       "\n",
       "   severe_toxic  obscene  threat  insult  identity_hate  \\\n",
       "0             0        0       0       0              0   \n",
       "1             0        0       0       0              0   \n",
       "\n",
       "                                      input_word_ids  \\\n",
       "0  (101, 27746, 31609, 11809, 24781, 10105, 70971...   \n",
       "1  (101, 141, 112, 56237, 10874, 106, 10357, 1825...   \n",
       "\n",
       "                                          input_mask  \\\n",
       "0  (1, 1, 1, 1, 1, 1, 1, 1, 1, 1, 1, 1, 1, 1, 1, ...   \n",
       "1  (1, 1, 1, 1, 1, 1, 1, 1, 1, 1, 1, 1, 1, 1, 1, ...   \n",
       "\n",
       "                                      all_segment_id  \n",
       "0  (0, 0, 0, 0, 0, 0, 0, 0, 0, 0, 0, 0, 0, 0, 0, ...  \n",
       "1  (0, 0, 0, 0, 0, 0, 0, 0, 0, 0, 0, 0, 0, 0, 0, ...  "
      ]
     },
     "execution_count": 17,
     "metadata": {},
     "output_type": "execute_result"
    }
   ],
   "source": [
    "df.head(2)"
   ]
  },
  {
   "cell_type": "markdown",
   "id": "3eb7f6bb",
   "metadata": {
    "heading_collapsed": true
   },
   "source": [
    "### Word Embeddings"
   ]
  },
  {
   "cell_type": "code",
   "execution_count": 18,
   "id": "8aed92fd",
   "metadata": {
    "hidden": true
   },
   "outputs": [
    {
     "data": {
      "text/html": [
       "<div>\n",
       "<style scoped>\n",
       "    .dataframe tbody tr th:only-of-type {\n",
       "        vertical-align: middle;\n",
       "    }\n",
       "\n",
       "    .dataframe tbody tr th {\n",
       "        vertical-align: top;\n",
       "    }\n",
       "\n",
       "    .dataframe thead th {\n",
       "        text-align: right;\n",
       "    }\n",
       "</style>\n",
       "<table border=\"1\" class=\"dataframe\">\n",
       "  <thead>\n",
       "    <tr style=\"text-align: right;\">\n",
       "      <th></th>\n",
       "      <th>comment_text</th>\n",
       "      <th>input_word_ids</th>\n",
       "    </tr>\n",
       "  </thead>\n",
       "  <tbody>\n",
       "    <tr>\n",
       "      <th>0</th>\n",
       "      <td>Explanation\\nWhy the edits made under my usern...</td>\n",
       "      <td>(101, 27746, 31609, 11809, 24781, 10105, 70971...</td>\n",
       "    </tr>\n",
       "    <tr>\n",
       "      <th>1</th>\n",
       "      <td>D'aww! He matches this background colour I'm s...</td>\n",
       "      <td>(101, 141, 112, 56237, 10874, 106, 10357, 1825...</td>\n",
       "    </tr>\n",
       "    <tr>\n",
       "      <th>2</th>\n",
       "      <td>Hey man, I'm really not trying to edit war. It...</td>\n",
       "      <td>(101, 35936, 10817, 117, 146, 112, 181, 30181,...</td>\n",
       "    </tr>\n",
       "    <tr>\n",
       "      <th>3</th>\n",
       "      <td>\"\\nMore\\nI can't make any real suggestions on ...</td>\n",
       "      <td>(101, 107, 15946, 146, 10944, 112, 188, 13086,...</td>\n",
       "    </tr>\n",
       "    <tr>\n",
       "      <th>4</th>\n",
       "      <td>You, sir, are my hero. Any chance you remember...</td>\n",
       "      <td>(101, 11065, 117, 52523, 117, 10301, 15127, 51...</td>\n",
       "    </tr>\n",
       "    <tr>\n",
       "      <th>...</th>\n",
       "      <td>...</td>\n",
       "      <td>...</td>\n",
       "    </tr>\n",
       "    <tr>\n",
       "      <th>9995</th>\n",
       "      <td>Numbers may be either listed separately at the...</td>\n",
       "      <td>(101, 51409, 11387, 10347, 16106, 17585, 91614...</td>\n",
       "    </tr>\n",
       "    <tr>\n",
       "      <th>9996</th>\n",
       "      <td>Those two love to disagree, don't they? 206.17...</td>\n",
       "      <td>(101, 43027, 10551, 16138, 10114, 36474, 91479...</td>\n",
       "    </tr>\n",
       "    <tr>\n",
       "      <th>9997</th>\n",
       "      <td>\"I have changed \"\"Lance Thomas\"\" to \"\"Lance Th...</td>\n",
       "      <td>(101, 107, 146, 10529, 17695, 107, 107, 45013,...</td>\n",
       "    </tr>\n",
       "    <tr>\n",
       "      <th>9998</th>\n",
       "      <td>states \\n\\nCourts: I have been putting all art...</td>\n",
       "      <td>(101, 16316, 14100, 10107, 131, 146, 10529, 10...</td>\n",
       "    </tr>\n",
       "    <tr>\n",
       "      <th>9999</th>\n",
       "      <td>Will do buddy ). But what is this thing about ...</td>\n",
       "      <td>(101, 15380, 10149, 11499, 56056, 114, 119, 16...</td>\n",
       "    </tr>\n",
       "  </tbody>\n",
       "</table>\n",
       "<p>10000 rows × 2 columns</p>\n",
       "</div>"
      ],
      "text/plain": [
       "                                           comment_text  \\\n",
       "0     Explanation\\nWhy the edits made under my usern...   \n",
       "1     D'aww! He matches this background colour I'm s...   \n",
       "2     Hey man, I'm really not trying to edit war. It...   \n",
       "3     \"\\nMore\\nI can't make any real suggestions on ...   \n",
       "4     You, sir, are my hero. Any chance you remember...   \n",
       "...                                                 ...   \n",
       "9995  Numbers may be either listed separately at the...   \n",
       "9996  Those two love to disagree, don't they? 206.17...   \n",
       "9997  \"I have changed \"\"Lance Thomas\"\" to \"\"Lance Th...   \n",
       "9998  states \\n\\nCourts: I have been putting all art...   \n",
       "9999  Will do buddy ). But what is this thing about ...   \n",
       "\n",
       "                                         input_word_ids  \n",
       "0     (101, 27746, 31609, 11809, 24781, 10105, 70971...  \n",
       "1     (101, 141, 112, 56237, 10874, 106, 10357, 1825...  \n",
       "2     (101, 35936, 10817, 117, 146, 112, 181, 30181,...  \n",
       "3     (101, 107, 15946, 146, 10944, 112, 188, 13086,...  \n",
       "4     (101, 11065, 117, 52523, 117, 10301, 15127, 51...  \n",
       "...                                                 ...  \n",
       "9995  (101, 51409, 11387, 10347, 16106, 17585, 91614...  \n",
       "9996  (101, 43027, 10551, 16138, 10114, 36474, 91479...  \n",
       "9997  (101, 107, 146, 10529, 17695, 107, 107, 45013,...  \n",
       "9998  (101, 16316, 14100, 10107, 131, 146, 10529, 10...  \n",
       "9999  (101, 15380, 10149, 11499, 56056, 114, 119, 16...  \n",
       "\n",
       "[10000 rows x 2 columns]"
      ]
     },
     "execution_count": 18,
     "metadata": {},
     "output_type": "execute_result"
    }
   ],
   "source": [
    "df_final[['comment_text','input_word_ids']]"
   ]
  },
  {
   "cell_type": "markdown",
   "id": "6b6adccd",
   "metadata": {
    "hidden": true
   },
   "source": [
    "Word embeddings are vector representations of words that capture semantic and syntactic information.\n",
    "They map words to dense numerical vectors in a continuous space, where similar words have similar vector representations.\n",
    "Word2Vec and GloVe are popular methods for generating word embeddings.\n",
    "Word embeddings enable algorithms to leverage the meaning and relationships between words for natural language processing tasks.\n",
    "They have revolutionized the field by improving performance in tasks such as text classification, information retrieval, and machine translation."
   ]
  },
  {
   "cell_type": "markdown",
   "id": "a769e36d",
   "metadata": {
    "heading_collapsed": true
   },
   "source": [
    "### Model Building"
   ]
  },
  {
   "cell_type": "markdown",
   "id": "e781c4af",
   "metadata": {
    "heading_collapsed": true,
    "hidden": true
   },
   "source": [
    "#### Train test split"
   ]
  },
  {
   "cell_type": "code",
   "execution_count": 19,
   "id": "98eb6795",
   "metadata": {
    "hidden": true
   },
   "outputs": [
    {
     "data": {
      "text/plain": [
       "Index(['id', 'comment_text', 'toxic', 'severe_toxic', 'obscene', 'threat',\n",
       "       'insult', 'identity_hate', 'input_word_ids', 'input_mask',\n",
       "       'all_segment_id'],\n",
       "      dtype='object')"
      ]
     },
     "execution_count": 19,
     "metadata": {},
     "output_type": "execute_result"
    }
   ],
   "source": [
    "df_final.columns"
   ]
  },
  {
   "cell_type": "code",
   "execution_count": 20,
   "id": "089ae3e6",
   "metadata": {
    "hidden": true
   },
   "outputs": [
    {
     "name": "stdout",
     "output_type": "stream",
     "text": [
      "Training set shape: (8000,) (8000,)\n",
      "Testing set shape: (2000,) (2000,)\n"
     ]
    },
    {
     "name": "stderr",
     "output_type": "stream",
     "text": [
      "/var/folders/cn/x21hwpy15_9b8f17160b3tvr0000gn/T/ipykernel_2465/691524635.py:2: SettingWithCopyWarning: \n",
      "A value is trying to be set on a copy of a slice from a DataFrame.\n",
      "Try using .loc[row_indexer,col_indexer] = value instead\n",
      "\n",
      "See the caveats in the documentation: https://pandas.pydata.org/pandas-docs/stable/user_guide/indexing.html#returning-a-view-versus-a-copy\n",
      "  df_final['comment_text'] = df_final['comment_text'].astype(str)\n"
     ]
    }
   ],
   "source": [
    "# Convert the 'comment_text' column to strings\n",
    "df_final['comment_text'] = df_final['comment_text'].astype(str)\n",
    "\n",
    "# Extract the features and labels from the dataframe\n",
    "X = df_final['comment_text']\n",
    "\n",
    "y = df_final['toxic']\n",
    "\n",
    "X_train, X_test, y_train, y_test = train_test_split(X, y, test_size=0.2, random_state=42)\n",
    "\n",
    "# Print the shape of the training and testing sets\n",
    "print(\"Training set shape:\", X_train.shape, y_train.shape)\n",
    "print(\"Testing set shape:\", X_test.shape, y_test.shape)"
   ]
  },
  {
   "cell_type": "code",
   "execution_count": 21,
   "id": "43ceff47",
   "metadata": {
    "hidden": true
   },
   "outputs": [
    {
     "data": {
      "text/plain": [
       "9254    \"\\n\\n Theme song? \\n\\nI have been watching CNN...\n",
       "1561    \"==:Bluffview Montessori School==\\nA tag has b...\n",
       "1670    If you doubt that it's verifiable, you haven't...\n",
       "6087    \"\\n\\n Wester Civ \\n\\nHello,\\n  I had gotten an...\n",
       "6669    \")\\n\\nreplied  talk \\nPlease note that I did r...\n",
       "                              ...                        \n",
       "5734    I don't believe it is an attack, but a reminde...\n",
       "5191    Waste dumping\\nNew user  has twice removed mat...\n",
       "5390    \"\\nI wish you another six months of happy mili...\n",
       "860     \"\\n\\n Pandur \\n\\nThe name derives from pandur,...\n",
       "7270    )\\n\\nThe sources cited in the article are, and...\n",
       "Name: comment_text, Length: 8000, dtype: object"
      ]
     },
     "execution_count": 21,
     "metadata": {},
     "output_type": "execute_result"
    }
   ],
   "source": [
    "X_train"
   ]
  },
  {
   "cell_type": "code",
   "execution_count": 22,
   "id": "3dd65cc5",
   "metadata": {
    "hidden": true
   },
   "outputs": [
    {
     "data": {
      "text/plain": [
       "9254    0\n",
       "1561    0\n",
       "1670    0\n",
       "6087    0\n",
       "6669    0\n",
       "       ..\n",
       "5734    0\n",
       "5191    0\n",
       "5390    0\n",
       "860     0\n",
       "7270    0\n",
       "Name: toxic, Length: 8000, dtype: int64"
      ]
     },
     "execution_count": 22,
     "metadata": {},
     "output_type": "execute_result"
    }
   ],
   "source": [
    "y_train"
   ]
  },
  {
   "cell_type": "markdown",
   "id": "41615fa5",
   "metadata": {
    "hidden": true
   },
   "source": [
    "##### NAIVE BYES"
   ]
  },
  {
   "cell_type": "code",
   "execution_count": 23,
   "id": "bf9e4943",
   "metadata": {
    "hidden": true
   },
   "outputs": [
    {
     "name": "stdout",
     "output_type": "stream",
     "text": [
      "Accuracy: 0.9365\n"
     ]
    }
   ],
   "source": [
    "# Create an instance of the CountVectorizer class\n",
    "vectorizer = CountVectorizer()\n",
    "\n",
    "# Transform the training and testing data into feature vectors\n",
    "X_train_vectorized = vectorizer.fit_transform(X_train)\n",
    "X_test_vectorized = vectorizer.transform(X_test)\n",
    "\n",
    "# Create an instance of the Naive Bayes classifier (MultinomialNB)\n",
    "naive_bayes = MultinomialNB()\n",
    "\n",
    "# Train the classifier on the training data\n",
    "naive_bayes.fit(X_train_vectorized, y_train)\n",
    "\n",
    "# Make predictions on the testing data\n",
    "y_pred = naive_bayes.predict(X_test_vectorized)\n",
    "\n",
    "# Calculate and print the accuracy of the classifier\n",
    "accuracy = accuracy_score(y_test, y_pred)\n",
    "print(\"Accuracy:\", accuracy)\n"
   ]
  },
  {
   "cell_type": "markdown",
   "id": "f3c3d5be",
   "metadata": {
    "hidden": true
   },
   "source": [
    "The provided code performs text classification using the Naive Bayes algorithm and the CountVectorizer for feature extraction.\n",
    "\n",
    "1. It creates an instance of the CountVectorizer class, which converts text data into numerical feature vectors.\n",
    "2. The training and testing data are transformed into feature vectors using the vectorizer.\n",
    "3. An instance of the Naive Bayes classifier (MultinomialNB) is created.\n",
    "4. The classifier is trained on the training data by fitting it to the vectorized features.\n",
    "5. Predictions are made on the testing data, and the accuracy of the classifier is calculated and printed.\n",
    "\n",
    "Overall, this code demonstrates the process of training a Naive Bayes classifier on text data represented as feature vectors and evaluating its accuracy in text classification tasks."
   ]
  },
  {
   "cell_type": "markdown",
   "id": "6ea89fdf",
   "metadata": {
    "hidden": true
   },
   "source": [
    "###### EVALUATION FOR NAIVE BYES"
   ]
  },
  {
   "cell_type": "code",
   "execution_count": 24,
   "id": "92753dec",
   "metadata": {
    "hidden": true
   },
   "outputs": [
    {
     "data": {
      "image/png": "[encoded data removed]",
      "text/plain": [
       "<Figure size 576x432 with 1 Axes>"
      ]
     },
     "metadata": {
      "needs_background": "light"
     },
     "output_type": "display_data"
    },
    {
     "name": "stdout",
     "output_type": "stream",
     "text": [
      "Classification Report:\n",
      "              precision    recall  f1-score   support\n",
      "\n",
      "           0       0.94      1.00      0.97      1808\n",
      "           1       0.89      0.39      0.54       192\n",
      "\n",
      "    accuracy                           0.94      2000\n",
      "   macro avg       0.92      0.69      0.75      2000\n",
      "weighted avg       0.93      0.94      0.92      2000\n",
      "\n"
     ]
    }
   ],
   "source": [
    "from sklearn.metrics import confusion_matrix, classification_report\n",
    "import matplotlib.pyplot as plt\n",
    "import seaborn as sns\n",
    "\n",
    "# Assuming you have already trained the Naive Bayes classifier and made predictions (y_pred)\n",
    "\n",
    "# Generate confusion matrix\n",
    "cm = confusion_matrix(y_test, y_pred)\n",
    "\n",
    "# Plot confusion matrix\n",
    "plt.figure(figsize=(8, 6))\n",
    "sns.heatmap(cm, annot=True, cmap=\"Blues\", fmt=\"d\", cbar=False)\n",
    "plt.xlabel(\"Predicted\")\n",
    "plt.ylabel(\"True\")\n",
    "plt.title(\"Confusion Matrix\")\n",
    "plt.show()\n",
    "\n",
    "# Generate classification report\n",
    "report = classification_report(y_test, y_pred)\n",
    "\n",
    "print(\"Classification Report:\")\n",
    "print(report)\n"
   ]
  },
  {
   "cell_type": "markdown",
   "id": "75f3fc6b",
   "metadata": {
    "hidden": true
   },
   "source": [
    "1) It calculates the confusion matrix by comparing the true labels (y_test) with the predicted labels (y_pred).\n",
    "\n",
    "2) The confusion matrix is visualized using a heatmap plot, providing an overview of the model's performance.\n",
    "\n",
    "3) The classification report is generated, which includes metrics such as precision, recall, F1-score, and support for each class.\n",
    "\n",
    "4) The classification report provides a comprehensive summary of the model's performance, including accuracy, precision, recall, and other metrics for each class.\n",
    "\n",
    "5) Output of the classification report is printed, allowing for easy interpretation and evaluation of the model's classification results."
   ]
  },
  {
   "cell_type": "markdown",
   "id": "6cafc5d7",
   "metadata": {
    "hidden": true
   },
   "source": [
    "##### LOGISTIC REGRESSION"
   ]
  },
  {
   "cell_type": "code",
   "execution_count": 25,
   "id": "3dd9b3ce",
   "metadata": {
    "hidden": true
   },
   "outputs": [
    {
     "name": "stdout",
     "output_type": "stream",
     "text": [
      "Accuracy: 0.944\n"
     ]
    },
    {
     "name": "stderr",
     "output_type": "stream",
     "text": [
      "/Users/c100-122/opt/anaconda3/lib/python3.9/site-packages/sklearn/linear_model/_logistic.py:460: ConvergenceWarning: lbfgs failed to converge (status=1):\n",
      "STOP: TOTAL NO. of ITERATIONS REACHED LIMIT.\n",
      "\n",
      "Increase the number of iterations (max_iter) or scale the data as shown in:\n",
      "    https://scikit-learn.org/stable/modules/preprocessing.html\n",
      "Please also refer to the documentation for alternative solver options:\n",
      "    https://scikit-learn.org/stable/modules/linear_model.html#logistic-regression\n",
      "  n_iter_i = _check_optimize_result(\n"
     ]
    }
   ],
   "source": [
    "# Create an instance of the LogisticRegression classifier\n",
    "logistic_regression = LogisticRegression()\n",
    "\n",
    "# Train the classifier on the training data\n",
    "logistic_regression.fit(X_train_vectorized, y_train)\n",
    "\n",
    "# Make predictions on the testing data\n",
    "y_pred = logistic_regression.predict(X_test_vectorized)\n",
    "\n",
    "# Calculate and print the accuracy of the classifier\n",
    "accuracy = accuracy_score(y_test, y_pred)\n",
    "print(\"Accuracy:\", accuracy)"
   ]
  },
  {
   "cell_type": "markdown",
   "id": "7f89634f",
   "metadata": {
    "hidden": true
   },
   "source": [
    "1) An instance of the LogisticRegression classifier is created.\n",
    "\n",
    "2) The classifier is trained on the training data using the fit method.\n",
    "\n",
    "3) Predictions are made on the testing data using the predict method.\n",
    "\n",
    "4) The accuracy of the classifier is calculated using the accuracy_score function.\n",
    "\n",
    "5) The accuracy is printed to evaluate the performance of the logistic regression classifier."
   ]
  },
  {
   "cell_type": "markdown",
   "id": "b0fb4866",
   "metadata": {
    "hidden": true
   },
   "source": [
    "###### EVALUATION FOR LOGISTIC REGRESSION"
   ]
  },
  {
   "cell_type": "code",
   "execution_count": 26,
   "id": "48e4f8b0",
   "metadata": {
    "hidden": true
   },
   "outputs": [
    {
     "data": {
      "image/png": "[encoded data removed]",
      "text/plain": [
       "<Figure size 576x432 with 2 Axes>"
      ]
     },
     "metadata": {
      "needs_background": "light"
     },
     "output_type": "display_data"
    },
    {
     "name": "stdout",
     "output_type": "stream",
     "text": [
      "Classification Report:\n",
      "              precision    recall  f1-score   support\n",
      "\n",
      "           0       0.95      0.99      0.97      1808\n",
      "           1       0.88      0.48      0.62       192\n",
      "\n",
      "    accuracy                           0.94      2000\n",
      "   macro avg       0.92      0.74      0.80      2000\n",
      "weighted avg       0.94      0.94      0.94      2000\n",
      "\n"
     ]
    }
   ],
   "source": [
    "# Create confusion matrix\n",
    "cm = confusion_matrix(y_test, y_pred)\n",
    "\n",
    "# Create classification report\n",
    "report = classification_report(y_test, y_pred)\n",
    "\n",
    "# Plot confusion matrix\n",
    "plt.figure(figsize=(8, 6))\n",
    "plt.imshow(cm, interpolation='nearest', cmap=plt.cm.Blues)\n",
    "plt.title(\"Confusion Matrix\")\n",
    "plt.colorbar()\n",
    "plt.xticks([0, 1], ['Negative', 'Positive'])\n",
    "plt.yticks([0, 1], ['Negative', 'Positive'])\n",
    "plt.xlabel(\"Predicted\")\n",
    "plt.ylabel(\"Actual\")\n",
    "plt.show()\n",
    "\n",
    "# Print classification report\n",
    "print(\"Classification Report:\")\n",
    "print(report)"
   ]
  },
  {
   "cell_type": "markdown",
   "id": "095b6ca3",
   "metadata": {
    "hidden": true
   },
   "source": [
    "1) It calculates the confusion matrix by comparing the true labels (y_test) with the predicted labels (y_pred).\n",
    "\n",
    "2) The confusion matrix is visualized using a heatmap plot, providing an overview of the model's performance.\n",
    "\n",
    "3) The classification report is generated, which includes metrics such as precision, recall, F1-score, and support for each class.\n",
    "\n",
    "4) The classification report provides a comprehensive summary of the model's performance, including accuracy, precision, recall, and other metrics for each class.\n",
    "\n",
    "5) Output of the classification report is printed, allowing for easy interpretation and evaluation of the model's classification results.\n"
   ]
  },
  {
   "cell_type": "markdown",
   "id": "07286c44",
   "metadata": {
    "hidden": true
   },
   "source": [
    "##### RANDOM FOREST "
   ]
  },
  {
   "cell_type": "code",
   "execution_count": 27,
   "id": "d67a47a5",
   "metadata": {
    "hidden": true
   },
   "outputs": [
    {
     "name": "stdout",
     "output_type": "stream",
     "text": [
      "Accuracy: 0.928\n"
     ]
    }
   ],
   "source": [
    "from sklearn.ensemble import RandomForestClassifier\n",
    "\n",
    "# Create an instance of the Random Forest classifier\n",
    "random_forest = RandomForestClassifier()\n",
    "\n",
    "# Train the classifier on the training data\n",
    "random_forest.fit(X_train_vectorized, y_train)\n",
    "\n",
    "# Make predictions on the testing data\n",
    "y_pred = random_forest.predict(X_test_vectorized)\n",
    "\n",
    "# Calculate and print the accuracy of the classifier\n",
    "accuracy = accuracy_score(y_test, y_pred)\n",
    "print(\"Accuracy:\", accuracy)"
   ]
  },
  {
   "cell_type": "markdown",
   "id": "d06fe51a",
   "metadata": {
    "hidden": true
   },
   "source": [
    "1) It imports the RandomForestClassifier from the sklearn.ensemble module.\n",
    "\n",
    "2) An instance of the Random Forest classifier is created.\n",
    "\n",
    "3) The classifier is trained on the training data represented by X_train_vectorized and y_train.\n",
    "\n",
    "4) Predictions are made on the testing data using X_test_vectorized.\n",
    "\n",
    "5) The accuracy of the classifier is calculated and printed using accuracy_score."
   ]
  },
  {
   "cell_type": "markdown",
   "id": "c6de88b8",
   "metadata": {
    "hidden": true
   },
   "source": [
    "###### EVALUATION FOR RANDOM FOREST"
   ]
  },
  {
   "cell_type": "code",
   "execution_count": 28,
   "id": "519d911e",
   "metadata": {
    "hidden": true
   },
   "outputs": [
    {
     "data": {
      "image/png": "[encoded data removed]",
      "text/plain": [
       "<Figure size 432x288 with 2 Axes>"
      ]
     },
     "metadata": {
      "needs_background": "light"
     },
     "output_type": "display_data"
    },
    {
     "name": "stdout",
     "output_type": "stream",
     "text": [
      "Classification Report:\n",
      "              precision    recall  f1-score   support\n",
      "\n",
      "           0       0.93      1.00      0.96      1808\n",
      "           1       0.86      0.30      0.44       192\n",
      "\n",
      "    accuracy                           0.93      2000\n",
      "   macro avg       0.90      0.65      0.70      2000\n",
      "weighted avg       0.92      0.93      0.91      2000\n",
      "\n"
     ]
    }
   ],
   "source": [
    "# Calculate the confusion matrix\n",
    "cm = confusion_matrix(y_test, y_pred)\n",
    "\n",
    "# Plot the confusion matrix using seaborn\n",
    "sns.heatmap(cm, annot=True, fmt='d')\n",
    "plt.title('Confusion Matrix')\n",
    "plt.xlabel('Predicted')\n",
    "plt.ylabel('True')\n",
    "plt.show()\n",
    "\n",
    "# Generate and print the classification report\n",
    "report = classification_report(y_test, y_pred)\n",
    "print(\"Classification Report:\")\n",
    "print(report)"
   ]
  },
  {
   "cell_type": "markdown",
   "id": "b93b3ac7",
   "metadata": {
    "hidden": true
   },
   "source": [
    "1) It calculates the confusion matrix by comparing the true labels (y_test) with the predicted labels (y_pred).\n",
    "\n",
    "2) The confusion matrix is visualized using a heatmap plot, providing an overview of the model's performance.\n",
    "\n",
    "3) The classification report is generated, which includes metrics such as precision, recall, F1-score, and support for each class.\n",
    "\n",
    "4) The classification report provides a comprehensive summary of the model's performance, including accuracy, precision, recall, and other metrics for each class.\n",
    "\n",
    "5) Output of the classification report is printed, allowing for easy interpretation and evaluation of the model's classification results.\n"
   ]
  },
  {
   "cell_type": "markdown",
   "id": "f3a1c89c",
   "metadata": {
    "hidden": true
   },
   "source": [
    "##### CNN"
   ]
  },
  {
   "cell_type": "code",
   "execution_count": 29,
   "id": "fee294fd",
   "metadata": {
    "hidden": true
   },
   "outputs": [
    {
     "name": "stdout",
     "output_type": "stream",
     "text": [
      "Epoch 1/10\n",
      "250/250 [==============================] - 10s 39ms/step - loss: 0.3638 - accuracy: 0.8601 - val_loss: 0.3163 - val_accuracy: 0.9040\n",
      "Epoch 2/10\n",
      "250/250 [==============================] - 10s 38ms/step - loss: 0.3206 - accuracy: 0.9026 - val_loss: 0.3191 - val_accuracy: 0.9040\n",
      "Epoch 3/10\n",
      "250/250 [==============================] - 10s 38ms/step - loss: 0.3205 - accuracy: 0.9026 - val_loss: 0.3192 - val_accuracy: 0.9040\n",
      "Epoch 4/10\n",
      "250/250 [==============================] - 10s 38ms/step - loss: 0.3201 - accuracy: 0.9026 - val_loss: 0.3225 - val_accuracy: 0.9040\n",
      "Epoch 5/10\n",
      "250/250 [==============================] - 10s 38ms/step - loss: 0.3214 - accuracy: 0.9026 - val_loss: 0.3163 - val_accuracy: 0.9040\n",
      "Epoch 6/10\n",
      "250/250 [==============================] - 9s 38ms/step - loss: 0.3204 - accuracy: 0.9026 - val_loss: 0.3161 - val_accuracy: 0.9040\n",
      "Epoch 7/10\n",
      "250/250 [==============================] - 9s 38ms/step - loss: 0.3202 - accuracy: 0.9026 - val_loss: 0.3203 - val_accuracy: 0.9040\n",
      "Epoch 8/10\n",
      "250/250 [==============================] - 9s 38ms/step - loss: 0.3194 - accuracy: 0.9028 - val_loss: 0.3162 - val_accuracy: 0.9040\n",
      "Epoch 9/10\n",
      "250/250 [==============================] - 10s 38ms/step - loss: 0.3203 - accuracy: 0.9028 - val_loss: 0.3178 - val_accuracy: 0.9040\n",
      "Epoch 10/10\n",
      "250/250 [==============================] - 10s 38ms/step - loss: 0.3206 - accuracy: 0.9028 - val_loss: 0.3161 - val_accuracy: 0.9040\n",
      "63/63 [==============================] - 0s 1ms/step - loss: 0.3161 - accuracy: 0.9040\n",
      "Accuracy: 0.9039999842643738\n"
     ]
    }
   ],
   "source": [
    "import tensorflow as tf\n",
    "from tensorflow.keras import layers\n",
    "from sklearn.feature_extraction.text import CountVectorizer\n",
    "from sklearn.model_selection import train_test_split\n",
    "\n",
    "# Convert sparse matrix to dense array\n",
    "X_train_dense = X_train_vectorized.toarray()\n",
    "X_test_dense = X_test_vectorized.toarray()\n",
    "\n",
    "# Get the vocabulary size\n",
    "vocab_size = len(vectorizer.vocabulary_)\n",
    "\n",
    "# Define the maximum sequence length\n",
    "max_sequence_length = 100\n",
    "\n",
    "# Pad or truncate the sequences to the defined maximum sequence length\n",
    "X_train_padded = tf.keras.preprocessing.sequence.pad_sequences(X_train_dense, maxlen=max_sequence_length)\n",
    "X_test_padded = tf.keras.preprocessing.sequence.pad_sequences(X_test_dense, maxlen=max_sequence_length)\n",
    "\n",
    "# Get the number of classes\n",
    "num_classes = len(set(y_train))\n",
    "\n",
    "# Define other necessary variables (e.g., embedding_dim, num_epochs, batch_size)\n",
    "embedding_dim = 100\n",
    "num_epochs = 10\n",
    "batch_size = 32\n",
    "\n",
    "# Define the CNN model\n",
    "model = tf.keras.Sequential()\n",
    "model.add(layers.Embedding(input_dim=vocab_size, output_dim=embedding_dim, input_length=max_sequence_length))\n",
    "model.add(layers.Conv1D(128, 5, activation='relu'))\n",
    "model.add(layers.GlobalMaxPooling1D())\n",
    "model.add(layers.Dense(64, activation='sigmoid'))\n",
    "model.add(layers.Dense(num_classes, activation='softmax'))\n",
    "\n",
    "# Compile the model\n",
    "model.compile(loss='sparse_categorical_crossentropy', optimizer='adam', metrics=['accuracy'])\n",
    "\n",
    "# Train the model\n",
    "model.fit(X_train_padded, y_train, epochs=num_epochs, batch_size=batch_size, validation_data=(X_test_padded, y_test))\n",
    "\n",
    "# Evaluate the model\n",
    "loss, accuracy = model.evaluate(X_test_padded, y_test)\n",
    "\n",
    "# Print the accuracy\n",
    "print(\"Accuracy:\", accuracy)\n"
   ]
  },
  {
   "cell_type": "markdown",
   "id": "ba565e9d",
   "metadata": {
    "hidden": true
   },
   "source": [
    "1) The code converts the sparse matrix representations of the training and testing data into dense arrays using toarray().\n",
    "\n",
    "2) It determines the vocabulary size based on the vectorizer used for feature extraction.\n",
    "\n",
    "3) The sequences of the dense data are padded or truncated to a specified maximum sequence length using pad_sequences().\n",
    "\n",
    "4) The CNN model is defined with embedding, convolutional, pooling, and dense layers.\n",
    "\n",
    "5) The model is compiled, trained on the padded training data, evaluated on the padded testing data, and the resulting accuracy is printed."
   ]
  },
  {
   "cell_type": "markdown",
   "id": "686e8bdb",
   "metadata": {
    "hidden": true
   },
   "source": [
    "###### EVALUATION FOR CNN"
   ]
  },
  {
   "cell_type": "code",
   "execution_count": 30,
   "id": "9f5bbb58",
   "metadata": {
    "hidden": true
   },
   "outputs": [
    {
     "name": "stdout",
     "output_type": "stream",
     "text": [
      "63/63 [==============================] - 0s 1ms/step\n",
      "Confusion Matrix:\n",
      "[[1808    0]\n",
      " [ 192    0]]\n",
      "\n",
      "Classification Report:\n",
      "              precision    recall  f1-score   support\n",
      "\n",
      "           0       0.90      1.00      0.95      1808\n",
      "           1       0.00      0.00      0.00       192\n",
      "\n",
      "    accuracy                           0.90      2000\n",
      "   macro avg       0.45      0.50      0.47      2000\n",
      "weighted avg       0.82      0.90      0.86      2000\n",
      "\n"
     ]
    },
    {
     "name": "stderr",
     "output_type": "stream",
     "text": [
      "/Users/c100-122/opt/anaconda3/lib/python3.9/site-packages/sklearn/metrics/_classification.py:1469: UndefinedMetricWarning: Precision and F-score are ill-defined and being set to 0.0 in labels with no predicted samples. Use `zero_division` parameter to control this behavior.\n",
      "  _warn_prf(average, modifier, msg_start, len(result))\n",
      "/Users/c100-122/opt/anaconda3/lib/python3.9/site-packages/sklearn/metrics/_classification.py:1469: UndefinedMetricWarning: Precision and F-score are ill-defined and being set to 0.0 in labels with no predicted samples. Use `zero_division` parameter to control this behavior.\n",
      "  _warn_prf(average, modifier, msg_start, len(result))\n",
      "/Users/c100-122/opt/anaconda3/lib/python3.9/site-packages/sklearn/metrics/_classification.py:1469: UndefinedMetricWarning: Precision and F-score are ill-defined and being set to 0.0 in labels with no predicted samples. Use `zero_division` parameter to control this behavior.\n",
      "  _warn_prf(average, modifier, msg_start, len(result))\n"
     ]
    },
    {
     "data": {
      "image/png": "[encoded data removed]",
      "text/plain": [
       "<Figure size 432x288 with 2 Axes>"
      ]
     },
     "metadata": {
      "needs_background": "light"
     },
     "output_type": "display_data"
    }
   ],
   "source": [
    "import numpy as np\n",
    "import matplotlib.pyplot as plt\n",
    "from sklearn.metrics import confusion_matrix, classification_report\n",
    "\n",
    "# Define the class names based on your dataset\n",
    "class_names = [\"class1\", \"class2\", \"class3\"]  # Replace with your actual class names\n",
    "\n",
    "# Make predictions on the test data\n",
    "y_pred_prob = model.predict(X_test_padded)\n",
    "y_pred = np.argmax(y_pred_prob, axis=1)\n",
    "\n",
    "# Convert the predicted labels to a numpy array\n",
    "y_pred = np.array(y_pred)\n",
    "\n",
    "# Generate the confusion matrix\n",
    "cm = confusion_matrix(y_test, y_pred)\n",
    "\n",
    "# Generate the classification report\n",
    "classification_rep = classification_report(y_test, y_pred)\n",
    "\n",
    "# Print the confusion matrix and classification report\n",
    "print(\"Confusion Matrix:\")\n",
    "print(cm)\n",
    "print(\"\\nClassification Report:\")\n",
    "print(classification_rep)\n",
    "\n",
    "# Plot the confusion matrix\n",
    "plt.imshow(cm, interpolation='nearest', cmap=plt.cm.Blues)\n",
    "plt.title(\"Confusion Matrix\")\n",
    "plt.colorbar()\n",
    "tick_marks = np.arange(len(class_names))\n",
    "plt.xticks(tick_marks, class_names, rotation=45)\n",
    "plt.yticks(tick_marks, class_names)\n",
    "plt.xlabel(\"Predicted Label\")\n",
    "plt.ylabel(\"True Label\")\n",
    "plt.show()\n"
   ]
  },
  {
   "cell_type": "markdown",
   "id": "0d948182",
   "metadata": {
    "hidden": true
   },
   "source": [
    "1) It calculates the confusion matrix by comparing the true labels (y_test) with the predicted labels (y_pred).\n",
    "\n",
    "2) The confusion matrix is visualized using a heatmap plot, providing an overview of the model's performance.\n",
    "\n",
    "3) The classification report is generated, which includes metrics such as precision, recall, F1-score, and support for each class.\n",
    "\n",
    "4) The classification report provides a comprehensive summary of the model's performance, including accuracy, precision, recall, and other metrics for each class.\n",
    "\n",
    "5) Output of the classification report is printed, allowing for easy interpretation and evaluation of the model's classification results.\n"
   ]
  },
  {
   "cell_type": "markdown",
   "id": "3a0d56f5",
   "metadata": {
    "hidden": true
   },
   "source": [
    "##### RNN"
   ]
  },
  {
   "cell_type": "code",
   "execution_count": 31,
   "id": "7ade9576",
   "metadata": {
    "hidden": true
   },
   "outputs": [
    {
     "name": "stdout",
     "output_type": "stream",
     "text": [
      "Epoch 1/20\n",
      "250/250 [==============================] - 11s 42ms/step - loss: 0.3333 - accuracy: 0.8934 - val_loss: 0.3210 - val_accuracy: 0.9040\n",
      "Epoch 2/20\n",
      "250/250 [==============================] - 10s 42ms/step - loss: 0.3221 - accuracy: 0.9026 - val_loss: 0.3196 - val_accuracy: 0.9040\n",
      "Epoch 3/20\n",
      "250/250 [==============================] - 10s 41ms/step - loss: 0.3223 - accuracy: 0.9026 - val_loss: 0.3228 - val_accuracy: 0.9040\n",
      "Epoch 4/20\n",
      "250/250 [==============================] - 10s 41ms/step - loss: 0.3222 - accuracy: 0.9026 - val_loss: 0.3171 - val_accuracy: 0.9040\n",
      "Epoch 5/20\n",
      "250/250 [==============================] - 10s 41ms/step - loss: 0.3215 - accuracy: 0.9026 - val_loss: 0.3162 - val_accuracy: 0.9040\n",
      "Epoch 6/20\n",
      "250/250 [==============================] - 10s 41ms/step - loss: 0.3230 - accuracy: 0.9025 - val_loss: 0.3177 - val_accuracy: 0.9040\n",
      "Epoch 7/20\n",
      "250/250 [==============================] - 10s 41ms/step - loss: 0.3213 - accuracy: 0.9026 - val_loss: 0.3166 - val_accuracy: 0.9040\n",
      "Epoch 8/20\n",
      "250/250 [==============================] - 10s 41ms/step - loss: 0.3209 - accuracy: 0.9026 - val_loss: 0.3166 - val_accuracy: 0.9040\n",
      "Epoch 9/20\n",
      "250/250 [==============================] - 10s 41ms/step - loss: 0.3204 - accuracy: 0.9026 - val_loss: 0.3177 - val_accuracy: 0.9040\n",
      "Epoch 10/20\n",
      "250/250 [==============================] - 10s 41ms/step - loss: 0.3202 - accuracy: 0.9026 - val_loss: 0.3180 - val_accuracy: 0.9040\n",
      "Epoch 11/20\n",
      "250/250 [==============================] - 10s 41ms/step - loss: 0.3200 - accuracy: 0.9028 - val_loss: 0.3172 - val_accuracy: 0.9040\n",
      "Epoch 12/20\n",
      "250/250 [==============================] - 10s 41ms/step - loss: 0.3200 - accuracy: 0.9028 - val_loss: 0.3162 - val_accuracy: 0.9040\n",
      "Epoch 13/20\n",
      "250/250 [==============================] - 10s 41ms/step - loss: 0.3204 - accuracy: 0.9028 - val_loss: 0.3170 - val_accuracy: 0.9040\n",
      "Epoch 14/20\n",
      "250/250 [==============================] - 10s 42ms/step - loss: 0.3206 - accuracy: 0.9028 - val_loss: 0.3173 - val_accuracy: 0.9040\n",
      "Epoch 15/20\n",
      "250/250 [==============================] - 10s 42ms/step - loss: 0.3211 - accuracy: 0.9028 - val_loss: 0.3179 - val_accuracy: 0.9040\n",
      "Epoch 16/20\n",
      "250/250 [==============================] - 10s 41ms/step - loss: 0.3201 - accuracy: 0.9028 - val_loss: 0.3165 - val_accuracy: 0.9040\n",
      "Epoch 17/20\n",
      "250/250 [==============================] - 10s 41ms/step - loss: 0.3203 - accuracy: 0.9028 - val_loss: 0.3175 - val_accuracy: 0.9040\n",
      "Epoch 18/20\n",
      "250/250 [==============================] - 10s 41ms/step - loss: 0.3209 - accuracy: 0.9028 - val_loss: 0.3163 - val_accuracy: 0.9040\n",
      "Epoch 19/20\n",
      "250/250 [==============================] - 10s 42ms/step - loss: 0.3201 - accuracy: 0.9028 - val_loss: 0.3177 - val_accuracy: 0.9040\n",
      "Epoch 20/20\n",
      "250/250 [==============================] - 10s 41ms/step - loss: 0.3202 - accuracy: 0.9028 - val_loss: 0.3162 - val_accuracy: 0.9040\n",
      "63/63 [==============================] - 0s 4ms/step - loss: 0.3162 - accuracy: 0.9040\n",
      "Accuracy: 0.9039999842643738\n"
     ]
    }
   ],
   "source": [
    "import tensorflow as tf\n",
    "from tensorflow.keras import layers\n",
    "from sklearn.feature_extraction.text import CountVectorizer\n",
    "from sklearn.model_selection import train_test_split\n",
    "\n",
    "# Convert sparse matrix to dense array\n",
    "X_train_dense = X_train_vectorized.toarray()\n",
    "X_test_dense = X_test_vectorized.toarray()\n",
    "\n",
    "# Get the vocabulary size\n",
    "vocab_size = len(vectorizer.vocabulary_)\n",
    "\n",
    "# Define the maximum sequence length\n",
    "max_sequence_length = 100\n",
    "\n",
    "# Pad or truncate the sequences to the defined maximum sequence length\n",
    "X_train_padded = tf.keras.preprocessing.sequence.pad_sequences(X_train_dense, maxlen=max_sequence_length)\n",
    "X_test_padded = tf.keras.preprocessing.sequence.pad_sequences(X_test_dense, maxlen=max_sequence_length)\n",
    "\n",
    "# Get the number of classes\n",
    "num_classes = len(set(y_train))\n",
    "\n",
    "# Define other necessary variables (e.g., embedding_dim, num_epochs, batch_size)\n",
    "embedding_dim = 100\n",
    "num_epochs = 20\n",
    "batch_size = 32\n",
    "\n",
    "# Define the RNN model\n",
    "model = tf.keras.Sequential()\n",
    "model.add(layers.Embedding(input_dim=vocab_size, output_dim=embedding_dim, input_length=max_sequence_length))\n",
    "model.add(layers.SimpleRNN(128))\n",
    "model.add(layers.Dense(64, activation='sigmoid'))\n",
    "model.add(layers.Dense(num_classes, activation='softmax'))\n",
    "\n",
    "# Compile the model\n",
    "model.compile(loss='sparse_categorical_crossentropy', optimizer='adam', metrics=['accuracy'])\n",
    "\n",
    "# Train the model\n",
    "model.fit(X_train_padded, y_train, epochs=num_epochs, batch_size=batch_size, validation_data=(X_test_padded, y_test))\n",
    "\n",
    "# Evaluate the model\n",
    "loss, accuracy = model.evaluate(X_test_padded, y_test)\n",
    "\n",
    "# Print the accuracy\n",
    "print(\"Accuracy:\", accuracy)\n"
   ]
  },
  {
   "cell_type": "markdown",
   "id": "5ce16c5f",
   "metadata": {
    "hidden": true
   },
   "source": [
    "1) The sequences are padded or truncated to a maximum sequence length using pad_sequences from TensorFlow.\n",
    "\n",
    "2) The RNN model is defined using Sequential from TensorFlow's keras module, comprising an embedding layer, a simple RNN layer, and dense layers."
   ]
  },
  {
   "cell_type": "markdown",
   "id": "aa0a3105",
   "metadata": {
    "hidden": true
   },
   "source": [
    "###### EVALUATION FOR RNN"
   ]
  },
  {
   "cell_type": "code",
   "execution_count": 32,
   "id": "df6f4c05",
   "metadata": {
    "hidden": true
   },
   "outputs": [
    {
     "name": "stdout",
     "output_type": "stream",
     "text": [
      "63/63 [==============================] - 0s 3ms/step\n"
     ]
    },
    {
     "data": {
      "image/png": "[encoded data removed]",
      "text/plain": [
       "<Figure size 576x432 with 2 Axes>"
      ]
     },
     "metadata": {
      "needs_background": "light"
     },
     "output_type": "display_data"
    },
    {
     "name": "stdout",
     "output_type": "stream",
     "text": [
      "Classification Report:\n",
      "              precision    recall  f1-score   support\n",
      "\n",
      "           0       0.90      1.00      0.95      1808\n",
      "           1       0.00      0.00      0.00       192\n",
      "\n",
      "    accuracy                           0.90      2000\n",
      "   macro avg       0.45      0.50      0.47      2000\n",
      "weighted avg       0.82      0.90      0.86      2000\n",
      "\n"
     ]
    },
    {
     "name": "stderr",
     "output_type": "stream",
     "text": [
      "/Users/c100-122/opt/anaconda3/lib/python3.9/site-packages/sklearn/metrics/_classification.py:1469: UndefinedMetricWarning: Precision and F-score are ill-defined and being set to 0.0 in labels with no predicted samples. Use `zero_division` parameter to control this behavior.\n",
      "  _warn_prf(average, modifier, msg_start, len(result))\n",
      "/Users/c100-122/opt/anaconda3/lib/python3.9/site-packages/sklearn/metrics/_classification.py:1469: UndefinedMetricWarning: Precision and F-score are ill-defined and being set to 0.0 in labels with no predicted samples. Use `zero_division` parameter to control this behavior.\n",
      "  _warn_prf(average, modifier, msg_start, len(result))\n",
      "/Users/c100-122/opt/anaconda3/lib/python3.9/site-packages/sklearn/metrics/_classification.py:1469: UndefinedMetricWarning: Precision and F-score are ill-defined and being set to 0.0 in labels with no predicted samples. Use `zero_division` parameter to control this behavior.\n",
      "  _warn_prf(average, modifier, msg_start, len(result))\n"
     ]
    }
   ],
   "source": [
    "import numpy as np\n",
    "import matplotlib.pyplot as plt\n",
    "import seaborn as sns\n",
    "from sklearn.metrics import confusion_matrix, classification_report\n",
    "\n",
    "# Get the predicted probabilities for each class\n",
    "y_pred_probs = model.predict(X_test_padded)\n",
    "\n",
    "# Convert the predicted probabilities to class labels\n",
    "y_pred_classes = np.argmax(y_pred_probs, axis=1)\n",
    "\n",
    "# Compute the confusion matrix\n",
    "cm = confusion_matrix(y_test, y_pred_classes)\n",
    "\n",
    "# Plot the confusion matrix\n",
    "plt.figure(figsize=(8, 6))\n",
    "sns.heatmap(cm, annot=True, fmt=\"d\", cmap=\"Blues\")\n",
    "plt.title(\"Confusion Matrix\")\n",
    "plt.xlabel(\"Predicted Labels\")\n",
    "plt.ylabel(\"True Labels\")\n",
    "plt.show()\n",
    "\n",
    "# Print the classification report\n",
    "report = classification_report(y_test, y_pred_classes)\n",
    "print(\"Classification Report:\")\n",
    "print(report)\n"
   ]
  },
  {
   "cell_type": "markdown",
   "id": "2d992f9a",
   "metadata": {
    "hidden": true
   },
   "source": [
    "1) It calculates the confusion matrix by comparing the true labels (y_test) with the predicted labels (y_pred).\n",
    "\n",
    "2) The confusion matrix is visualized using a heatmap plot, providing an overview of the model's performance.\n",
    "\n",
    "3) The classification report is generated, which includes metrics such as precision, recall, F1-score, and support for each class.\n",
    "\n",
    "4) The classification report provides a comprehensive summary of the model's performance, including accuracy, precision, recall, and other metrics for each class.\n",
    "\n",
    "5) Output of the classification report is printed, allowing for easy interpretation and evaluation of the model's classification results.\n"
   ]
  },
  {
   "cell_type": "markdown",
   "id": "caa8393b",
   "metadata": {
    "hidden": true
   },
   "source": [
    "##### LSTM"
   ]
  },
  {
   "cell_type": "code",
   "execution_count": 33,
   "id": "4c8ac90b",
   "metadata": {
    "hidden": true
   },
   "outputs": [
    {
     "name": "stderr",
     "output_type": "stream",
     "text": [
      "2023-07-10 10:51:07.006469: I tensorflow/core/common_runtime/executor.cc:1197] [/device:CPU:0] (DEBUG INFO) Executor start aborting (this does not indicate an error and you can ignore this message): INVALID_ARGUMENT: You must feed a value for placeholder tensor 'gradients/split_2_grad/concat/split_2/split_dim' with dtype int32\n",
      "\t [[{{node gradients/split_2_grad/concat/split_2/split_dim}}]]\n",
      "2023-07-10 10:51:07.007174: I tensorflow/core/common_runtime/executor.cc:1197] [/device:CPU:0] (DEBUG INFO) Executor start aborting (this does not indicate an error and you can ignore this message): INVALID_ARGUMENT: You must feed a value for placeholder tensor 'gradients/split_grad/concat/split/split_dim' with dtype int32\n",
      "\t [[{{node gradients/split_grad/concat/split/split_dim}}]]\n",
      "2023-07-10 10:51:07.008613: I tensorflow/core/common_runtime/executor.cc:1197] [/device:CPU:0] (DEBUG INFO) Executor start aborting (this does not indicate an error and you can ignore this message): INVALID_ARGUMENT: You must feed a value for placeholder tensor 'gradients/split_1_grad/concat/split_1/split_dim' with dtype int32\n",
      "\t [[{{node gradients/split_1_grad/concat/split_1/split_dim}}]]\n"
     ]
    },
    {
     "name": "stdout",
     "output_type": "stream",
     "text": [
      "Epoch 1/20\n"
     ]
    },
    {
     "name": "stderr",
     "output_type": "stream",
     "text": [
      "2023-07-10 10:51:07.187043: I tensorflow/core/common_runtime/executor.cc:1197] [/device:CPU:0] (DEBUG INFO) Executor start aborting (this does not indicate an error and you can ignore this message): INVALID_ARGUMENT: You must feed a value for placeholder tensor 'gradients/split_2_grad/concat/split_2/split_dim' with dtype int32\n",
      "\t [[{{node gradients/split_2_grad/concat/split_2/split_dim}}]]\n",
      "2023-07-10 10:51:07.188778: I tensorflow/core/common_runtime/executor.cc:1197] [/device:CPU:0] (DEBUG INFO) Executor start aborting (this does not indicate an error and you can ignore this message): INVALID_ARGUMENT: You must feed a value for placeholder tensor 'gradients/split_grad/concat/split/split_dim' with dtype int32\n",
      "\t [[{{node gradients/split_grad/concat/split/split_dim}}]]\n",
      "2023-07-10 10:51:07.190056: I tensorflow/core/common_runtime/executor.cc:1197] [/device:CPU:0] (DEBUG INFO) Executor start aborting (this does not indicate an error and you can ignore this message): INVALID_ARGUMENT: You must feed a value for placeholder tensor 'gradients/split_1_grad/concat/split_1/split_dim' with dtype int32\n",
      "\t [[{{node gradients/split_1_grad/concat/split_1/split_dim}}]]\n",
      "2023-07-10 10:51:07.571309: I tensorflow/core/common_runtime/executor.cc:1197] [/device:CPU:0] (DEBUG INFO) Executor start aborting (this does not indicate an error and you can ignore this message): INVALID_ARGUMENT: You must feed a value for placeholder tensor 'gradients/split_2_grad/concat/split_2/split_dim' with dtype int32\n",
      "\t [[{{node gradients/split_2_grad/concat/split_2/split_dim}}]]\n",
      "2023-07-10 10:51:07.572637: I tensorflow/core/common_runtime/executor.cc:1197] [/device:CPU:0] (DEBUG INFO) Executor start aborting (this does not indicate an error and you can ignore this message): INVALID_ARGUMENT: You must feed a value for placeholder tensor 'gradients/split_grad/concat/split/split_dim' with dtype int32\n",
      "\t [[{{node gradients/split_grad/concat/split/split_dim}}]]\n",
      "2023-07-10 10:51:07.573818: I tensorflow/core/common_runtime/executor.cc:1197] [/device:CPU:0] (DEBUG INFO) Executor start aborting (this does not indicate an error and you can ignore this message): INVALID_ARGUMENT: You must feed a value for placeholder tensor 'gradients/split_1_grad/concat/split_1/split_dim' with dtype int32\n",
      "\t [[{{node gradients/split_1_grad/concat/split_1/split_dim}}]]\n"
     ]
    },
    {
     "name": "stdout",
     "output_type": "stream",
     "text": [
      "250/250 [==============================] - ETA: 0s - loss: 0.3254 - accuracy: 0.9026"
     ]
    },
    {
     "name": "stderr",
     "output_type": "stream",
     "text": [
      "2023-07-10 10:51:25.791859: I tensorflow/core/common_runtime/executor.cc:1197] [/device:CPU:0] (DEBUG INFO) Executor start aborting (this does not indicate an error and you can ignore this message): INVALID_ARGUMENT: You must feed a value for placeholder tensor 'gradients/split_2_grad/concat/split_2/split_dim' with dtype int32\n",
      "\t [[{{node gradients/split_2_grad/concat/split_2/split_dim}}]]\n",
      "2023-07-10 10:51:25.793060: I tensorflow/core/common_runtime/executor.cc:1197] [/device:CPU:0] (DEBUG INFO) Executor start aborting (this does not indicate an error and you can ignore this message): INVALID_ARGUMENT: You must feed a value for placeholder tensor 'gradients/split_grad/concat/split/split_dim' with dtype int32\n",
      "\t [[{{node gradients/split_grad/concat/split/split_dim}}]]\n",
      "2023-07-10 10:51:25.794517: I tensorflow/core/common_runtime/executor.cc:1197] [/device:CPU:0] (DEBUG INFO) Executor start aborting (this does not indicate an error and you can ignore this message): INVALID_ARGUMENT: You must feed a value for placeholder tensor 'gradients/split_1_grad/concat/split_1/split_dim' with dtype int32\n",
      "\t [[{{node gradients/split_1_grad/concat/split_1/split_dim}}]]\n"
     ]
    },
    {
     "name": "stdout",
     "output_type": "stream",
     "text": [
      "250/250 [==============================] - 20s 74ms/step - loss: 0.3254 - accuracy: 0.9026 - val_loss: 0.3177 - val_accuracy: 0.9040\n",
      "Epoch 2/20\n",
      "250/250 [==============================] - 18s 73ms/step - loss: 0.3204 - accuracy: 0.9026 - val_loss: 0.3176 - val_accuracy: 0.9040\n",
      "Epoch 3/20\n",
      "250/250 [==============================] - 18s 73ms/step - loss: 0.3204 - accuracy: 0.9026 - val_loss: 0.3180 - val_accuracy: 0.9040\n",
      "Epoch 4/20\n",
      "250/250 [==============================] - 18s 73ms/step - loss: 0.3199 - accuracy: 0.9026 - val_loss: 0.3177 - val_accuracy: 0.9040\n",
      "Epoch 5/20\n",
      "250/250 [==============================] - 18s 73ms/step - loss: 0.3198 - accuracy: 0.9026 - val_loss: 0.3176 - val_accuracy: 0.9040\n",
      "Epoch 6/20\n",
      "250/250 [==============================] - 18s 73ms/step - loss: 0.3204 - accuracy: 0.9026 - val_loss: 0.3165 - val_accuracy: 0.9040\n",
      "Epoch 7/20\n",
      "250/250 [==============================] - 18s 73ms/step - loss: 0.3205 - accuracy: 0.9026 - val_loss: 0.3224 - val_accuracy: 0.9040\n",
      "Epoch 8/20\n",
      "250/250 [==============================] - 18s 73ms/step - loss: 0.3200 - accuracy: 0.9026 - val_loss: 0.3205 - val_accuracy: 0.9040\n",
      "Epoch 9/20\n",
      "250/250 [==============================] - 18s 73ms/step - loss: 0.3199 - accuracy: 0.9026 - val_loss: 0.3162 - val_accuracy: 0.9040\n",
      "Epoch 10/20\n",
      "250/250 [==============================] - 18s 73ms/step - loss: 0.3200 - accuracy: 0.9026 - val_loss: 0.3164 - val_accuracy: 0.9040\n",
      "Epoch 11/20\n",
      "250/250 [==============================] - 18s 73ms/step - loss: 0.3202 - accuracy: 0.9026 - val_loss: 0.3186 - val_accuracy: 0.9040\n",
      "Epoch 12/20\n",
      "250/250 [==============================] - 18s 73ms/step - loss: 0.3201 - accuracy: 0.9026 - val_loss: 0.3163 - val_accuracy: 0.9040\n",
      "Epoch 13/20\n",
      "250/250 [==============================] - 18s 73ms/step - loss: 0.3204 - accuracy: 0.9026 - val_loss: 0.3189 - val_accuracy: 0.9040\n",
      "Epoch 14/20\n",
      "250/250 [==============================] - 18s 73ms/step - loss: 0.3200 - accuracy: 0.9026 - val_loss: 0.3191 - val_accuracy: 0.9040\n",
      "Epoch 15/20\n",
      "250/250 [==============================] - 18s 73ms/step - loss: 0.3204 - accuracy: 0.9026 - val_loss: 0.3162 - val_accuracy: 0.9040\n",
      "Epoch 16/20\n",
      "250/250 [==============================] - 18s 73ms/step - loss: 0.3197 - accuracy: 0.9026 - val_loss: 0.3163 - val_accuracy: 0.9040\n",
      "Epoch 17/20\n",
      "250/250 [==============================] - 18s 73ms/step - loss: 0.3200 - accuracy: 0.9026 - val_loss: 0.3163 - val_accuracy: 0.9040\n",
      "Epoch 18/20\n",
      "250/250 [==============================] - 18s 73ms/step - loss: 0.3198 - accuracy: 0.9028 - val_loss: 0.3183 - val_accuracy: 0.9040\n",
      "Epoch 19/20\n",
      "250/250 [==============================] - 18s 73ms/step - loss: 0.3201 - accuracy: 0.9028 - val_loss: 0.3179 - val_accuracy: 0.9040\n",
      "Epoch 20/20\n",
      "250/250 [==============================] - 18s 72ms/step - loss: 0.3199 - accuracy: 0.9028 - val_loss: 0.3170 - val_accuracy: 0.9040\n",
      "63/63 [==============================] - 1s 11ms/step - loss: 0.3170 - accuracy: 0.9040\n",
      "Accuracy: 0.9039999842643738\n"
     ]
    }
   ],
   "source": [
    "# Get the vocabulary size\n",
    "vocab_size = len(vectorizer.vocabulary_)\n",
    "\n",
    "# Define the maximum sequence length\n",
    "max_sequence_length = 100\n",
    "\n",
    "# Pad or truncate the sequences to the defined maximum sequence length\n",
    "X_train_padded = tf.keras.preprocessing.sequence.pad_sequences(X_train_dense, maxlen=max_sequence_length)\n",
    "X_test_padded = tf.keras.preprocessing.sequence.pad_sequences(X_test_dense, maxlen=max_sequence_length)\n",
    "\n",
    "# Get the number of classes\n",
    "num_classes = len(set(y_train))\n",
    "\n",
    "# Define other necessary variables (e.g., embedding_dim, num_epochs, batch_size)\n",
    "embedding_dim = 100\n",
    "num_epochs = 20\n",
    "batch_size = 32\n",
    "\n",
    "# Define the LSTM model\n",
    "model = tf.keras.Sequential()\n",
    "model.add(layers.Embedding(input_dim=vocab_size, output_dim=embedding_dim, input_length=max_sequence_length))\n",
    "model.add(layers.LSTM(128))\n",
    "model.add(layers.Dense(64, activation='sigmoid'))\n",
    "model.add(layers.Dense(num_classes, activation='softmax'))\n",
    "\n",
    "# Compile the model\n",
    "model.compile(loss='sparse_categorical_crossentropy', optimizer='adam', metrics=['accuracy'])\n",
    "\n",
    "# Train the model\n",
    "model.fit(X_train_padded, y_train, epochs=num_epochs, batch_size=batch_size, validation_data=(X_test_padded, y_test))\n",
    "\n",
    "# Evaluate the model\n",
    "loss, accuracy = model.evaluate(X_test_padded, y_test)\n",
    "\n",
    "# Print the accuracy\n",
    "print(\"Accuracy:\", accuracy)"
   ]
  },
  {
   "cell_type": "markdown",
   "id": "f3772840",
   "metadata": {
    "hidden": true
   },
   "source": [
    "1) It prepares the input data by determining the vocabulary size and maximum sequence length, and padding or truncating the sequences to a consistent length.\n",
    "\n",
    "2) The number of classes is determined based on the unique labels in the training set.\n",
    "\n",
    "3) A sequential model is defined using TensorFlow's Keras API, consisting of an embedding layer, LSTM layer, and dense layers.\n",
    "\n",
    "4) The model is compiled with appropriate loss function, optimizer, and evaluation metrics.\n",
    "\n",
    "5) The model is trained using the training data, and its performance is evaluated on the test data by calculating the loss and accuracy. The accuracy is then printed."
   ]
  },
  {
   "cell_type": "markdown",
   "id": "d2ca8711",
   "metadata": {
    "hidden": true
   },
   "source": [
    "###### EVALUATION FOR LSTM"
   ]
  },
  {
   "cell_type": "code",
   "execution_count": 34,
   "id": "3d9bd0a0",
   "metadata": {
    "hidden": true
   },
   "outputs": [
    {
     "name": "stdout",
     "output_type": "stream",
     "text": [
      " 6/63 [=>............................] - ETA: 0s "
     ]
    },
    {
     "name": "stderr",
     "output_type": "stream",
     "text": [
      "2023-07-10 10:57:14.144626: I tensorflow/core/common_runtime/executor.cc:1197] [/device:CPU:0] (DEBUG INFO) Executor start aborting (this does not indicate an error and you can ignore this message): INVALID_ARGUMENT: You must feed a value for placeholder tensor 'gradients/split_2_grad/concat/split_2/split_dim' with dtype int32\n",
      "\t [[{{node gradients/split_2_grad/concat/split_2/split_dim}}]]\n",
      "2023-07-10 10:57:14.145820: I tensorflow/core/common_runtime/executor.cc:1197] [/device:CPU:0] (DEBUG INFO) Executor start aborting (this does not indicate an error and you can ignore this message): INVALID_ARGUMENT: You must feed a value for placeholder tensor 'gradients/split_grad/concat/split/split_dim' with dtype int32\n",
      "\t [[{{node gradients/split_grad/concat/split/split_dim}}]]\n",
      "2023-07-10 10:57:14.147293: I tensorflow/core/common_runtime/executor.cc:1197] [/device:CPU:0] (DEBUG INFO) Executor start aborting (this does not indicate an error and you can ignore this message): INVALID_ARGUMENT: You must feed a value for placeholder tensor 'gradients/split_1_grad/concat/split_1/split_dim' with dtype int32\n",
      "\t [[{{node gradients/split_1_grad/concat/split_1/split_dim}}]]\n"
     ]
    },
    {
     "name": "stdout",
     "output_type": "stream",
     "text": [
      "63/63 [==============================] - 1s 11ms/step\n"
     ]
    },
    {
     "name": "stderr",
     "output_type": "stream",
     "text": [
      "/Users/c100-122/opt/anaconda3/lib/python3.9/site-packages/sklearn/metrics/_classification.py:1469: UndefinedMetricWarning: Precision and F-score are ill-defined and being set to 0.0 in labels with no predicted samples. Use `zero_division` parameter to control this behavior.\n",
      "  _warn_prf(average, modifier, msg_start, len(result))\n",
      "/Users/c100-122/opt/anaconda3/lib/python3.9/site-packages/sklearn/metrics/_classification.py:1469: UndefinedMetricWarning: Precision and F-score are ill-defined and being set to 0.0 in labels with no predicted samples. Use `zero_division` parameter to control this behavior.\n",
      "  _warn_prf(average, modifier, msg_start, len(result))\n",
      "/Users/c100-122/opt/anaconda3/lib/python3.9/site-packages/sklearn/metrics/_classification.py:1469: UndefinedMetricWarning: Precision and F-score are ill-defined and being set to 0.0 in labels with no predicted samples. Use `zero_division` parameter to control this behavior.\n",
      "  _warn_prf(average, modifier, msg_start, len(result))\n"
     ]
    },
    {
     "data": {
      "image/png": "[encoded data removed]",
      "text/plain": [
       "<Figure size 576x432 with 2 Axes>"
      ]
     },
     "metadata": {
      "needs_background": "light"
     },
     "output_type": "display_data"
    },
    {
     "name": "stdout",
     "output_type": "stream",
     "text": [
      "Classification Report:\n",
      "              precision    recall  f1-score   support\n",
      "\n",
      "           0       0.90      1.00      0.95      1808\n",
      "           1       0.00      0.00      0.00       192\n",
      "\n",
      "    accuracy                           0.90      2000\n",
      "   macro avg       0.45      0.50      0.47      2000\n",
      "weighted avg       0.82      0.90      0.86      2000\n",
      "\n"
     ]
    }
   ],
   "source": [
    "import numpy as np\n",
    "\n",
    "# Make predictions on the test data\n",
    "y_pred_prob = model.predict(X_test_padded)\n",
    "y_pred = np.argmax(y_pred_prob, axis=1)\n",
    "\n",
    "# Create a confusion matrix\n",
    "cm = confusion_matrix(y_test, y_pred)\n",
    "\n",
    "# Create a classification report\n",
    "report = classification_report(y_test, y_pred)\n",
    "\n",
    "# Plot the confusion matrix\n",
    "plt.figure(figsize=(8, 6))\n",
    "sns.heatmap(cm, annot=True, fmt=\"d\", cmap=\"Blues\")\n",
    "plt.xlabel(\"Predicted\")\n",
    "plt.ylabel(\"True\")\n",
    "plt.title(\"Confusion Matrix\")\n",
    "plt.show()\n",
    "\n",
    "# Print the classification report\n",
    "print(\"Classification Report:\")\n",
    "print(report)\n"
   ]
  },
  {
   "cell_type": "markdown",
   "id": "c07b4fd4",
   "metadata": {
    "hidden": true
   },
   "source": [
    "1) It calculates the confusion matrix by comparing the true labels (y_test) with the predicted labels (y_pred).\n",
    "\n",
    "2) The confusion matrix is visualized using a heatmap plot, providing an overview of the model's performance.\n",
    "\n",
    "3) The classification report is generated, which includes metrics such as precision, recall, F1-score, and support for each class.\n",
    "\n",
    "4) The classification report provides a comprehensive summary of the model's performance, including accuracy, precision, recall, and other metrics for each class.\n",
    "\n",
    "5) Output of the classification report is printed, allowing for easy interpretation and evaluation of the model's classification results."
   ]
  },
  {
   "cell_type": "markdown",
   "id": "bd88693f",
   "metadata": {
    "heading_collapsed": true
   },
   "source": [
    "### Handling imblanced data"
   ]
  },
  {
   "cell_type": "markdown",
   "id": "846672ca",
   "metadata": {
    "hidden": true
   },
   "source": [
    "#### OVER RESAMPLING  : RANDOM OVER SAMPLING"
   ]
  },
  {
   "cell_type": "code",
   "execution_count": 35,
   "id": "d884cd5b",
   "metadata": {
    "hidden": true
   },
   "outputs": [
    {
     "name": "stdout",
     "output_type": "stream",
     "text": [
      "[(0, 9029), (1, 971)]\n"
     ]
    }
   ],
   "source": [
    "from collections import Counter\n",
    "print(sorted(Counter(df_final['toxic']).items()))"
   ]
  },
  {
   "cell_type": "code",
   "execution_count": 36,
   "id": "b631cf27",
   "metadata": {
    "hidden": true
   },
   "outputs": [],
   "source": [
    "count_class_0, count_class_1 = df_final.toxic.value_counts()\n",
    "\n",
    "df_class_0 = df_final[df_final['toxic']==0]\n",
    "df_class_1 = df_final[df_final['toxic']==1]"
   ]
  },
  {
   "cell_type": "code",
   "execution_count": 37,
   "id": "d9c1eef7",
   "metadata": {
    "hidden": true
   },
   "outputs": [
    {
     "name": "stdout",
     "output_type": "stream",
     "text": [
      "Index(['id', 'comment_text', 'toxic', 'severe_toxic', 'obscene', 'threat',\n",
      "       'insult', 'identity_hate', 'input_word_ids', 'input_mask',\n",
      "       'all_segment_id'],\n",
      "      dtype='object')\n"
     ]
    }
   ],
   "source": [
    "print(df_final.columns)\n"
   ]
  },
  {
   "cell_type": "code",
   "execution_count": 38,
   "id": "a54f6482",
   "metadata": {
    "hidden": true
   },
   "outputs": [
    {
     "name": "stdout",
     "output_type": "stream",
     "text": [
      "Random oversampling:\n",
      "0    9029\n",
      "1    9029\n",
      "Name: toxic, dtype: int64\n"
     ]
    }
   ],
   "source": [
    "count_class_0, count_class_1 = df_final['toxic'].value_counts()\n",
    "\n",
    "df_class_0 = df_final[df_final['toxic'] == 0]\n",
    "df_class_1 = df_final[df_final['toxic'] == 1]\n",
    "\n",
    "df_class_1_over = df_class_1.sample(count_class_0, replace=True, random_state=42)\n",
    "\n",
    "df_test_over = pd.concat([df_class_0, df_class_1_over], axis=0)\n",
    "print('Random oversampling:')\n",
    "print(df_test_over['toxic'].value_counts())"
   ]
  },
  {
   "cell_type": "markdown",
   "id": "e71e6d81",
   "metadata": {
    "hidden": true
   },
   "source": [
    "1) The code first counts the occurrences of class 0 and class 1 in the 'toxic' column of the DataFrame 'df_final'.\n",
    "\n",
    "2) Two new DataFrames, 'df_class_0' and 'df_class_1', are created by filtering 'df_final' based on the 'toxic' column values.\n",
    "\n",
    "3) The code randomly oversamples the minority class (class 1) by sampling from 'df_class_1' with replacement to match the count of the majority class (class 0).\n",
    "\n",
    "4) The oversampled DataFrames 'df_class_1_over' and 'df_class_0' are concatenated along the rows axis using 'pd.concat' to create a new DataFrame, 'df_test_over', which contains a balanced distribution of classes.\n",
    "\n",
    "5) The code prints the value counts of the 'toxic' column in 'df_test_over' to show the balanced class distribution achieved through random oversampling."
   ]
  },
  {
   "cell_type": "markdown",
   "id": "ec640cb1",
   "metadata": {
    "heading_collapsed": true
   },
   "source": [
    "### Hyperparameter Tuning"
   ]
  },
  {
   "cell_type": "markdown",
   "id": "0cd89126",
   "metadata": {
    "hidden": true
   },
   "source": [
    "#### GRIDSEARCHCV"
   ]
  },
  {
   "cell_type": "code",
   "execution_count": 39,
   "id": "510e7ee5",
   "metadata": {
    "hidden": true
   },
   "outputs": [],
   "source": [
    "from sklearn.ensemble import RandomForestClassifier\n",
    "from sklearn.model_selection import GridSearchCV,RandomizedSearchCV\n",
    "from sklearn.metrics import accuracy_score\n",
    "import multiprocessing"
   ]
  },
  {
   "cell_type": "markdown",
   "id": "85a64eb5",
   "metadata": {
    "hidden": true
   },
   "source": [
    "1. It imports the necessary libraries for the random forest classifier, hyperparameter tuning, and evaluation.\n",
    "\n",
    "2. The RandomForestClassifier is a popular ensemble learning algorithm for classification tasks.\n",
    "\n",
    "3. GridSearchCV/RandomizedSearchCV are used to systematically search and evaluate the best combination of hyperparameters for the random forest model.\n",
    "\n",
    "4. The accuracy_score function is used to evaluate the model's performance based on the predicted and true labels.\n",
    "\n",
    "5. The code employs multiprocessing to speed up the hyperparameter search process by leveraging multiple CPU cores if available."
   ]
  },
  {
   "cell_type": "code",
   "execution_count": null,
   "id": "13f51953",
   "metadata": {
    "code_folding": [],
    "hidden": true
   },
   "outputs": [],
   "source": [
    "rf_clf = RandomForestClassifier(random_state=10)\n",
    "\n",
    "hyp = {\"n_estimators\" : np.arange(10,200),\n",
    "    \"criterion\" : ['gini', \"entropy\"],\n",
    "    \"max_depth\" :  np.arange(5,15),\n",
    "    \"min_samples_split\": np.arange(5,20),\n",
    "    \"min_samples_leaf\" : np.arange(4,15),\n",
    "    \"max_features\" : ['sqrt']}"
   ]
  },
  {
   "cell_type": "markdown",
   "id": "85d1646d",
   "metadata": {
    "hidden": true
   },
   "source": [
    "1. n_estimators– number of trees the algorithm builds before averaging the \n",
    "predictions.\n",
    "\n",
    "\n",
    "2. max_features– maximum number of features random forest considers splitting \n",
    "a node.\n",
    "\n",
    "\n",
    "3. mini_sample_leaf– determines the minimum number of leaves required to split \n",
    "an internal node. This Random Forest hyperparameter specifies the minimum \n",
    "number of samples that should be present in the leaf node after splitting a \n",
    "node. Default = 1\n",
    "\n",
    "\n",
    "4. max_depth: The max_depth of a tree in Random Forest is defined as the longest \n",
    "path between the root node and the leaf node.\n",
    "\n",
    "\n",
    "5. min_sample_split: Parameter that tells the decision tree in a random forest the \n",
    "minimum required number of observations in any given node to split it. Default = 2\n",
    "\n",
    "\n",
    "7. criterion: The function to measure the quality of a split. Supported criteria are “gini” for \n",
    "the Gini impurity and “entropy” for the information gain for Random Forest Classifier. \n",
    "Supported criteria for Random Forest Regressor are “squared_error” or “mse” and \n",
    "“absolute_error” or “mae”"
   ]
  },
  {
   "cell_type": "code",
   "execution_count": 41,
   "id": "7f04cdab",
   "metadata": {
    "hidden": true
   },
   "outputs": [
    {
     "data": {
      "text/html": [
       "<style>#sk-container-id-1 {color: black;}#sk-container-id-1 pre{padding: 0;}#sk-container-id-1 div.sk-toggleable {background-color: white;}#sk-container-id-1 label.sk-toggleable__label {cursor: pointer;display: block;width: 100%;margin-bottom: 0;padding: 0.3em;box-sizing: border-box;text-align: center;}#sk-container-id-1 label.sk-toggleable__label-arrow:before {content: \"▸\";float: left;margin-right: 0.25em;color: #696969;}#sk-container-id-1 label.sk-toggleable__label-arrow:hover:before {color: black;}#sk-container-id-1 div.sk-estimator:hover label.sk-toggleable__label-arrow:before {color: black;}#sk-container-id-1 div.sk-toggleable__content {max-height: 0;max-width: 0;overflow: hidden;text-align: left;background-color: #f0f8ff;}#sk-container-id-1 div.sk-toggleable__content pre {margin: 0.2em;color: black;border-radius: 0.25em;background-color: #f0f8ff;}#sk-container-id-1 input.sk-toggleable__control:checked~div.sk-toggleable__content {max-height: 200px;max-width: 100%;overflow: auto;}#sk-container-id-1 input.sk-toggleable__control:checked~label.sk-toggleable__label-arrow:before {content: \"▾\";}#sk-container-id-1 div.sk-estimator input.sk-toggleable__control:checked~label.sk-toggleable__label {background-color: #d4ebff;}#sk-container-id-1 div.sk-label input.sk-toggleable__control:checked~label.sk-toggleable__label {background-color: #d4ebff;}#sk-container-id-1 input.sk-hidden--visually {border: 0;clip: rect(1px 1px 1px 1px);clip: rect(1px, 1px, 1px, 1px);height: 1px;margin: -1px;overflow: hidden;padding: 0;position: absolute;width: 1px;}#sk-container-id-1 div.sk-estimator {font-family: monospace;background-color: #f0f8ff;border: 1px dotted black;border-radius: 0.25em;box-sizing: border-box;margin-bottom: 0.5em;}#sk-container-id-1 div.sk-estimator:hover {background-color: #d4ebff;}#sk-container-id-1 div.sk-parallel-item::after {content: \"\";width: 100%;border-bottom: 1px solid gray;flex-grow: 1;}#sk-container-id-1 div.sk-label:hover label.sk-toggleable__label {background-color: #d4ebff;}#sk-container-id-1 div.sk-serial::before {content: \"\";position: absolute;border-left: 1px solid gray;box-sizing: border-box;top: 0;bottom: 0;left: 50%;z-index: 0;}#sk-container-id-1 div.sk-serial {display: flex;flex-direction: column;align-items: center;background-color: white;padding-right: 0.2em;padding-left: 0.2em;position: relative;}#sk-container-id-1 div.sk-item {position: relative;z-index: 1;}#sk-container-id-1 div.sk-parallel {display: flex;align-items: stretch;justify-content: center;background-color: white;position: relative;}#sk-container-id-1 div.sk-item::before, #sk-container-id-1 div.sk-parallel-item::before {content: \"\";position: absolute;border-left: 1px solid gray;box-sizing: border-box;top: 0;bottom: 0;left: 50%;z-index: -1;}#sk-container-id-1 div.sk-parallel-item {display: flex;flex-direction: column;z-index: 1;position: relative;background-color: white;}#sk-container-id-1 div.sk-parallel-item:first-child::after {align-self: flex-end;width: 50%;}#sk-container-id-1 div.sk-parallel-item:last-child::after {align-self: flex-start;width: 50%;}#sk-container-id-1 div.sk-parallel-item:only-child::after {width: 0;}#sk-container-id-1 div.sk-dashed-wrapped {border: 1px dashed gray;margin: 0 0.4em 0.5em 0.4em;box-sizing: border-box;padding-bottom: 0.4em;background-color: white;}#sk-container-id-1 div.sk-label label {font-family: monospace;font-weight: bold;display: inline-block;line-height: 1.2em;}#sk-container-id-1 div.sk-label-container {text-align: center;}#sk-container-id-1 div.sk-container {/* jupyter's `normalize.less` sets `[hidden] { display: none; }` but bootstrap.min.css set `[hidden] { display: none !important; }` so we also need the `!important` here to be able to override the default hidden behavior on the sphinx rendered scikit-learn.org. See: https://github.com/scikit-learn/scikit-learn/issues/21755 */display: inline-block !important;position: relative;}#sk-container-id-1 div.sk-text-repr-fallback {display: none;}</style><div id=\"sk-container-id-1\" class=\"sk-top-container\"><div class=\"sk-text-repr-fallback\"><pre>RandomForestClassifier(criterion=&#x27;entropy&#x27;, max_depth=6, min_samples_leaf=13,\n",
       "                       min_samples_split=7, n_estimators=148, random_state=10)</pre><b>In a Jupyter environment, please rerun this cell to show the HTML representation or trust the notebook. <br />On GitHub, the HTML representation is unable to render, please try loading this page with nbviewer.org.</b></div><div class=\"sk-container\" hidden><div class=\"sk-item\"><div class=\"sk-estimator sk-toggleable\"><input class=\"sk-toggleable__control sk-hidden--visually\" id=\"sk-estimator-id-1\" type=\"checkbox\" checked><label for=\"sk-estimator-id-1\" class=\"sk-toggleable__label sk-toggleable__label-arrow\">RandomForestClassifier</label><div class=\"sk-toggleable__content\"><pre>RandomForestClassifier(criterion=&#x27;entropy&#x27;, max_depth=6, min_samples_leaf=13,\n",
       "                       min_samples_split=7, n_estimators=148, random_state=10)</pre></div></div></div></div></div>"
      ],
      "text/plain": [
       "RandomForestClassifier(criterion='entropy', max_depth=6, min_samples_leaf=13,\n",
       "                       min_samples_split=7, n_estimators=148, random_state=10)"
      ]
     },
     "execution_count": 41,
     "metadata": {},
     "output_type": "execute_result"
    }
   ],
   "source": [
    "rscv_rf_clf = RandomizedSearchCV(rf_clf, hyp, cv=6)\n",
    "rscv_rf_clf.fit(X_train_vectorized,y_train)\n",
    "rscv_rf_clf.best_estimator_"
   ]
  },
  {
   "cell_type": "code",
   "execution_count": 42,
   "id": "f576d3ff",
   "metadata": {
    "hidden": true
   },
   "outputs": [
    {
     "data": {
      "text/html": [
       "<style>#sk-container-id-2 {color: black;}#sk-container-id-2 pre{padding: 0;}#sk-container-id-2 div.sk-toggleable {background-color: white;}#sk-container-id-2 label.sk-toggleable__label {cursor: pointer;display: block;width: 100%;margin-bottom: 0;padding: 0.3em;box-sizing: border-box;text-align: center;}#sk-container-id-2 label.sk-toggleable__label-arrow:before {content: \"▸\";float: left;margin-right: 0.25em;color: #696969;}#sk-container-id-2 label.sk-toggleable__label-arrow:hover:before {color: black;}#sk-container-id-2 div.sk-estimator:hover label.sk-toggleable__label-arrow:before {color: black;}#sk-container-id-2 div.sk-toggleable__content {max-height: 0;max-width: 0;overflow: hidden;text-align: left;background-color: #f0f8ff;}#sk-container-id-2 div.sk-toggleable__content pre {margin: 0.2em;color: black;border-radius: 0.25em;background-color: #f0f8ff;}#sk-container-id-2 input.sk-toggleable__control:checked~div.sk-toggleable__content {max-height: 200px;max-width: 100%;overflow: auto;}#sk-container-id-2 input.sk-toggleable__control:checked~label.sk-toggleable__label-arrow:before {content: \"▾\";}#sk-container-id-2 div.sk-estimator input.sk-toggleable__control:checked~label.sk-toggleable__label {background-color: #d4ebff;}#sk-container-id-2 div.sk-label input.sk-toggleable__control:checked~label.sk-toggleable__label {background-color: #d4ebff;}#sk-container-id-2 input.sk-hidden--visually {border: 0;clip: rect(1px 1px 1px 1px);clip: rect(1px, 1px, 1px, 1px);height: 1px;margin: -1px;overflow: hidden;padding: 0;position: absolute;width: 1px;}#sk-container-id-2 div.sk-estimator {font-family: monospace;background-color: #f0f8ff;border: 1px dotted black;border-radius: 0.25em;box-sizing: border-box;margin-bottom: 0.5em;}#sk-container-id-2 div.sk-estimator:hover {background-color: #d4ebff;}#sk-container-id-2 div.sk-parallel-item::after {content: \"\";width: 100%;border-bottom: 1px solid gray;flex-grow: 1;}#sk-container-id-2 div.sk-label:hover label.sk-toggleable__label {background-color: #d4ebff;}#sk-container-id-2 div.sk-serial::before {content: \"\";position: absolute;border-left: 1px solid gray;box-sizing: border-box;top: 0;bottom: 0;left: 50%;z-index: 0;}#sk-container-id-2 div.sk-serial {display: flex;flex-direction: column;align-items: center;background-color: white;padding-right: 0.2em;padding-left: 0.2em;position: relative;}#sk-container-id-2 div.sk-item {position: relative;z-index: 1;}#sk-container-id-2 div.sk-parallel {display: flex;align-items: stretch;justify-content: center;background-color: white;position: relative;}#sk-container-id-2 div.sk-item::before, #sk-container-id-2 div.sk-parallel-item::before {content: \"\";position: absolute;border-left: 1px solid gray;box-sizing: border-box;top: 0;bottom: 0;left: 50%;z-index: -1;}#sk-container-id-2 div.sk-parallel-item {display: flex;flex-direction: column;z-index: 1;position: relative;background-color: white;}#sk-container-id-2 div.sk-parallel-item:first-child::after {align-self: flex-end;width: 50%;}#sk-container-id-2 div.sk-parallel-item:last-child::after {align-self: flex-start;width: 50%;}#sk-container-id-2 div.sk-parallel-item:only-child::after {width: 0;}#sk-container-id-2 div.sk-dashed-wrapped {border: 1px dashed gray;margin: 0 0.4em 0.5em 0.4em;box-sizing: border-box;padding-bottom: 0.4em;background-color: white;}#sk-container-id-2 div.sk-label label {font-family: monospace;font-weight: bold;display: inline-block;line-height: 1.2em;}#sk-container-id-2 div.sk-label-container {text-align: center;}#sk-container-id-2 div.sk-container {/* jupyter's `normalize.less` sets `[hidden] { display: none; }` but bootstrap.min.css set `[hidden] { display: none !important; }` so we also need the `!important` here to be able to override the default hidden behavior on the sphinx rendered scikit-learn.org. See: https://github.com/scikit-learn/scikit-learn/issues/21755 */display: inline-block !important;position: relative;}#sk-container-id-2 div.sk-text-repr-fallback {display: none;}</style><div id=\"sk-container-id-2\" class=\"sk-top-container\"><div class=\"sk-text-repr-fallback\"><pre>RandomForestClassifier(criterion=&#x27;entropy&#x27;, max_depth=14, min_samples_leaf=7,\n",
       "                       min_samples_split=13, n_estimators=145, random_state=10)</pre><b>In a Jupyter environment, please rerun this cell to show the HTML representation or trust the notebook. <br />On GitHub, the HTML representation is unable to render, please try loading this page with nbviewer.org.</b></div><div class=\"sk-container\" hidden><div class=\"sk-item\"><div class=\"sk-estimator sk-toggleable\"><input class=\"sk-toggleable__control sk-hidden--visually\" id=\"sk-estimator-id-2\" type=\"checkbox\" checked><label for=\"sk-estimator-id-2\" class=\"sk-toggleable__label sk-toggleable__label-arrow\">RandomForestClassifier</label><div class=\"sk-toggleable__content\"><pre>RandomForestClassifier(criterion=&#x27;entropy&#x27;, max_depth=14, min_samples_leaf=7,\n",
       "                       min_samples_split=13, n_estimators=145, random_state=10)</pre></div></div></div></div></div>"
      ],
      "text/plain": [
       "RandomForestClassifier(criterion='entropy', max_depth=14, min_samples_leaf=7,\n",
       "                       min_samples_split=13, n_estimators=145, random_state=10)"
      ]
     },
     "execution_count": 42,
     "metadata": {},
     "output_type": "execute_result"
    }
   ],
   "source": [
    "rf_model = RandomForestClassifier(criterion='entropy', max_depth=14, min_samples_leaf=7,\n",
    "                       min_samples_split=13, n_estimators=145, random_state=10)\n",
    "rf_model.fit(X_train_vectorized,y_train)"
   ]
  },
  {
   "cell_type": "code",
   "execution_count": 43,
   "id": "97642201",
   "metadata": {
    "code_folding": [],
    "hidden": true
   },
   "outputs": [
    {
     "name": "stdout",
     "output_type": "stream",
     "text": [
      "Accuracy Score Traning : 0.902625\n",
      "Confusion Matrix Traning : \n",
      " [[7221    0]\n",
      " [ 779    0]]\n",
      "Classification Report :\n",
      "               precision    recall  f1-score   support\n",
      "\n",
      "           0       0.90      1.00      0.95      7221\n",
      "           1       0.00      0.00      0.00       779\n",
      "\n",
      "    accuracy                           0.90      8000\n",
      "   macro avg       0.45      0.50      0.47      8000\n",
      "weighted avg       0.81      0.90      0.86      8000\n",
      "\n",
      "Accuracy Score Testing : 0.904\n",
      "Confusion Matrix Testing : \n",
      " [[1808    0]\n",
      " [ 192    0]]\n",
      "Classification Report :\n",
      "               precision    recall  f1-score   support\n",
      "\n",
      "           0       0.90      1.00      0.95      1808\n",
      "           1       0.00      0.00      0.00       192\n",
      "\n",
      "    accuracy                           0.90      2000\n",
      "   macro avg       0.45      0.50      0.47      2000\n",
      "weighted avg       0.82      0.90      0.86      2000\n",
      "\n"
     ]
    },
    {
     "name": "stderr",
     "output_type": "stream",
     "text": [
      "/Users/c100-122/opt/anaconda3/lib/python3.9/site-packages/sklearn/metrics/_classification.py:1469: UndefinedMetricWarning: Precision and F-score are ill-defined and being set to 0.0 in labels with no predicted samples. Use `zero_division` parameter to control this behavior.\n",
      "  _warn_prf(average, modifier, msg_start, len(result))\n",
      "/Users/c100-122/opt/anaconda3/lib/python3.9/site-packages/sklearn/metrics/_classification.py:1469: UndefinedMetricWarning: Precision and F-score are ill-defined and being set to 0.0 in labels with no predicted samples. Use `zero_division` parameter to control this behavior.\n",
      "  _warn_prf(average, modifier, msg_start, len(result))\n",
      "/Users/c100-122/opt/anaconda3/lib/python3.9/site-packages/sklearn/metrics/_classification.py:1469: UndefinedMetricWarning: Precision and F-score are ill-defined and being set to 0.0 in labels with no predicted samples. Use `zero_division` parameter to control this behavior.\n",
      "  _warn_prf(average, modifier, msg_start, len(result))\n",
      "/Users/c100-122/opt/anaconda3/lib/python3.9/site-packages/sklearn/metrics/_classification.py:1469: UndefinedMetricWarning: Precision and F-score are ill-defined and being set to 0.0 in labels with no predicted samples. Use `zero_division` parameter to control this behavior.\n",
      "  _warn_prf(average, modifier, msg_start, len(result))\n",
      "/Users/c100-122/opt/anaconda3/lib/python3.9/site-packages/sklearn/metrics/_classification.py:1469: UndefinedMetricWarning: Precision and F-score are ill-defined and being set to 0.0 in labels with no predicted samples. Use `zero_division` parameter to control this behavior.\n",
      "  _warn_prf(average, modifier, msg_start, len(result))\n",
      "/Users/c100-122/opt/anaconda3/lib/python3.9/site-packages/sklearn/metrics/_classification.py:1469: UndefinedMetricWarning: Precision and F-score are ill-defined and being set to 0.0 in labels with no predicted samples. Use `zero_division` parameter to control this behavior.\n",
      "  _warn_prf(average, modifier, msg_start, len(result))\n"
     ]
    }
   ],
   "source": [
    "# Training Evaluation\n",
    "\n",
    "y_pred = rf_model.predict(X_train_vectorized)\n",
    "\n",
    "acc_score = accuracy_score(y_train,y_pred)\n",
    "print(\"Accuracy Score Traning :\", acc_score)\n",
    "\n",
    "cnf_matrix = confusion_matrix(y_train,y_pred)\n",
    "print(\"Confusion Matrix Traning : \\n\", cnf_matrix)\n",
    "\n",
    "class_report = classification_report(y_train,y_pred)\n",
    "print(\"Classification Report :\\n\", class_report)\n",
    "\n",
    "# Testing Evaluation\n",
    "\n",
    "y_pred = rf_model.predict(X_test_vectorized)\n",
    "\n",
    "acc_score = accuracy_score(y_test,y_pred)\n",
    "print(\"Accuracy Score Testing :\", acc_score)\n",
    "\n",
    "cnf_matrix = confusion_matrix(y_test,y_pred)\n",
    "print(\"Confusion Matrix Testing : \\n\", cnf_matrix)\n",
    "\n",
    "class_report = classification_report(y_test,y_pred)\n",
    "print(\"Classification Report :\\n\", class_report)"
   ]
  },
  {
   "cell_type": "markdown",
   "id": "7c7c5107",
   "metadata": {
    "hidden": true
   },
   "source": [
    "1) The code first uses the trained random forest model to make predictions on the training data and calculates the accuracy score using the accuracy_score function.\n",
    "\n",
    "2) It then computes the confusion matrix using the confusion_matrix function to evaluate the performance of the model on the training data.\n",
    "\n",
    "3) Next, the code generates a classification report using the classification_report function, which provides metrics such as precision, recall, and F1-score for each class in the training data.\n",
    "\n",
    "4) The same evaluation process is repeated for the testing data by making predictions using the trained model, calculating the accuracy score, generating the confusion matrix, and producing a classification report.\n",
    "\n",
    "5) The printed output includes the accuracy scores, confusion matrices, and classification reports for both the training and testing data, allowing for the assessment of the model's performance on different datasets."
   ]
  },
  {
   "cell_type": "code",
   "execution_count": 44,
   "id": "c05287ab",
   "metadata": {
    "hidden": true
   },
   "outputs": [
    {
     "data": {
      "text/plain": [
       "145"
      ]
     },
     "execution_count": 44,
     "metadata": {},
     "output_type": "execute_result"
    }
   ],
   "source": [
    "rf_model.n_estimators"
   ]
  },
  {
   "cell_type": "code",
   "execution_count": 45,
   "id": "3b5496bd",
   "metadata": {
    "hidden": true
   },
   "outputs": [
    {
     "data": {
      "text/plain": [
       "array([0., 0., 0., ..., 0., 0., 0.])"
      ]
     },
     "execution_count": 45,
     "metadata": {},
     "output_type": "execute_result"
    }
   ],
   "source": [
    "rf_model.feature_importances_"
   ]
  },
  {
   "cell_type": "code",
   "execution_count": 46,
   "id": "a81f1672",
   "metadata": {
    "hidden": true
   },
   "outputs": [
    {
     "name": "stdout",
     "output_type": "stream",
     "text": [
      "Accuracy: 0.904\n"
     ]
    }
   ],
   "source": [
    "# Calculate the accuracy of the model on the test data\n",
    "accuracy = rf_model.score(X_test_vectorized, y_test)\n",
    "\n",
    "# Print the accuracy\n",
    "print(\"Accuracy:\", accuracy)"
   ]
  }
 ],
 "metadata": {
  "kernelspec": {
   "display_name": "Python 3 (ipykernel)",
   "language": "python",
   "name": "python3"
  },
  "language_info": {
   "codemirror_mode": {
    "name": "ipython",
    "version": 3
   },
   "file_extension": ".py",
   "mimetype": "text/x-python",
   "name": "python",
   "nbconvert_exporter": "python",
   "pygments_lexer": "ipython3",
   "version": "3.9.12"
  }
 },
 "nbformat": 4,
 "nbformat_minor": 5
}
